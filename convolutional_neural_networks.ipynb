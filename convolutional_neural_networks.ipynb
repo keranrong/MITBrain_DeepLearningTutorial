{
  "nbformat": 4,
  "nbformat_minor": 0,
  "metadata": {
    "colab": {
      "name": "convolutional_neural_networks.ipynb",
      "version": "0.3.2",
      "provenance": [],
      "collapsed_sections": [],
      "include_colab_link": true
    },
    "kernelspec": {
      "name": "python3",
      "display_name": "Python 3"
    },
    "accelerator": "GPU"
  },
  "cells": [
    {
      "cell_type": "markdown",
      "metadata": {
        "id": "view-in-github",
        "colab_type": "text"
      },
      "source": [
        "<a href=\"https://colab.research.google.com/github/keranrong/MITBrain_DeepLearningTutorial/blob/master/convolutional_neural_networks.ipynb\" target=\"_parent\"><img src=\"https://colab.research.google.com/assets/colab-badge.svg\" alt=\"Open In Colab\"/></a>"
      ]
    },
    {
      "metadata": {
        "id": "y6WaAOe7P92g",
        "colab_type": "text"
      },
      "cell_type": "markdown",
      "source": [
        "# Convolutional Neural Networks tutorial\n",
        "\n",
        "**Authors:** Eugenio Piasini and Yen-Ling Kuo for the [Brains, Minds and Machines summer course 2018](http://cbmm.mit.edu/summer-school/2018)."
      ]
    },
    {
      "metadata": {
        "id": "s8crLFYsQGTR",
        "colab_type": "text"
      },
      "cell_type": "markdown",
      "source": [
        "This tutorial will show you how\n",
        "* Build, train and test a neural network in [PyTorch](https://pytorch.org/)\n",
        "* Work with convolutions\n",
        "* Visualize filters and other properties as the network during training\n",
        "\n",
        "To do the above, we will build a convolutional neural network with the purpose of classifying handwritten digits from the MNIST database.\n"
      ]
    },
    {
      "metadata": {
        "id": "MEozv9crQVyf",
        "colab_type": "code",
        "outputId": "4b10735e-558e-4fa0-8cf2-5e3e3597fd3e",
        "colab": {
          "base_uri": "https://localhost:8080/",
          "height": 122
        }
      },
      "cell_type": "code",
      "source": [
        "# import modules we will use for the tutorial\n",
        "import numpy as np\n",
        "%matplotlib inline\n",
        "import matplotlib.pyplot as plt\n",
        "\n",
        "# install and import torch-related modules\n",
        "!pip3 install torch torchvision\n",
        "\n",
        "import torch\n",
        "import torch.nn as nn\n",
        "import torch.nn.functional as F\n",
        "import torch.optim as optim\n",
        "from torch.optim import lr_scheduler\n",
        "import torchvision\n",
        "\n",
        "# detect if a GPU is available\n",
        "device = torch.device(\"cuda:0\" if torch.cuda.is_available() else \"cpu\")\n",
        "print(\"Running on device: {}\".format(device))"
      ],
      "execution_count": 0,
      "outputs": [
        {
          "output_type": "stream",
          "text": [
            "Requirement already satisfied: torch in /usr/local/lib/python3.6/dist-packages (0.4.1)\r\n",
            "Requirement already satisfied: torchvision in /usr/local/lib/python3.6/dist-packages (0.2.1)\r\n",
            "Requirement already satisfied: pillow>=4.1.1 in /usr/local/lib/python3.6/dist-packages (from torchvision) (5.2.0)\r\n",
            "Requirement already satisfied: six in /usr/local/lib/python3.6/dist-packages (from torchvision) (1.11.0)\r\n",
            "Requirement already satisfied: numpy in /usr/local/lib/python3.6/dist-packages (from torchvision) (1.14.5)\r\n",
            "Running on device: cuda:0\n"
          ],
          "name": "stdout"
        }
      ]
    },
    {
      "metadata": {
        "id": "8ZNbLMUtTaA-",
        "colab_type": "text"
      },
      "cell_type": "markdown",
      "source": [
        "## Set up TensorBoard\n",
        "\n",
        "[Tensorboard](https://www.tensorflow.org/guide/summaries_and_tensorboard) is a utility to record and visualize the activations, weights, loss, etc of your network, during and after training. It greatly simplifies debugging and iterative development of the network architecture. It is highly recommended.\n",
        "\n",
        "To use TensorBoard in this notebook, we have to overcome two technical hurdles:\n",
        " 1. we will be using [PyTorch](https://pytorch.org/) to work with our networks, but as the name suggests, TensorBoard is designed to work with [TensorFlow](https://www.tensorflow.org/), a competing framework.\n",
        " 2. generally it is easiest to use TensorBoard when you're working on your local computer or on a computer on your local network, but in this tutorial we will run these notebooks on remote virtual machines via Colab.\n",
        "\n",
        "It is not important that you understand exactly how we are getting around these issues (this is not the point of the tutorial!), but the code is below for your reference. We will be using a tool called [`tensorboardx`](https://github.com/lanpa/tensorboardX) ([documentation](https://tensorboardx.readthedocs.io/en/latest/?badge=latest)) to overcome problem 1, and one called `ngrok` to deal with problem 2. If you're running this on your local computer, you only need to worry about problem 1 and `tensorboardx`, and can safely disregard `ngrok`.\n",
        "\n",
        "After running the following cell, a link should appear, that you can follow to see your newly created TensorBoard interface."
      ]
    },
    {
      "metadata": {
        "id": "vEBZvFOOQRh-",
        "colab_type": "code",
        "outputId": "7bdafbdb-dab4-4886-a720-8af7c903bdf3",
        "colab": {
          "base_uri": "https://localhost:8080/",
          "height": 422
        }
      },
      "cell_type": "code",
      "source": [
        "# download and unzip 'ngrok', the tool we will use to set up the tunnel\n",
        "ngrok_filename = 'ngrok-stable-linux-amd64.zip'\n",
        "!if [ ! -f $ngrok_filename ]; then wget https://bin.equinox.io/c/4VmDzA7iaHb/$ngrok_filename && unzip $ngrok_filename; fi\n",
        "\n",
        "# specify where we will write the logging data files to be read by TensorBoard\n",
        "LOG_DIR = './runs'\n",
        "\n",
        "# ensure the selected directory exists\n",
        "!mkdir -p $LOG_DIR\n",
        "\n",
        "# start TensorBoard\n",
        "get_ipython().system_raw(\n",
        "    'tensorboard --logdir {} --host 0.0.0.0 --port 6006 &'\n",
        "    .format(LOG_DIR)\n",
        ")\n",
        "\n",
        "# open the tunnel with ngrok\n",
        "get_ipython().system_raw('./ngrok http 6006 &')\n",
        "\n",
        "# display a link to the TensorBoard URL\n",
        "! curl -s http://localhost:4040/api/tunnels | python3 -c \\\n",
        "    \"import sys, json; print('Public TensorBoard URL: {}'.format(json.load(sys.stdin)['tunnels'][0]['public_url']))\"\n",
        "    \n",
        "# set up tensorboardx, which we will use to log stuff from pytorch\n",
        "!pip3 install tensorboardX\n",
        "from tensorboardX import SummaryWriter"
      ],
      "execution_count": 0,
      "outputs": [
        {
          "output_type": "stream",
          "text": [
            "--2018-08-18 15:50:49--  https://bin.equinox.io/c/4VmDzA7iaHb/ngrok-stable-linux-amd64.zip\n",
            "Resolving bin.equinox.io (bin.equinox.io)... 52.0.104.144, 34.239.63.98, 34.238.48.57, ...\n",
            "Connecting to bin.equinox.io (bin.equinox.io)|52.0.104.144|:443... connected.\n",
            "HTTP request sent, awaiting response... 200 OK\n",
            "Length: 5363700 (5.1M) [application/octet-stream]\n",
            "Saving to: ‘ngrok-stable-linux-amd64.zip’\n",
            "\n",
            "ngrok-stable-linux- 100%[===================>]   5.11M  7.71MB/s    in 0.7s    \n",
            "\n",
            "2018-08-18 15:50:50 (7.71 MB/s) - ‘ngrok-stable-linux-amd64.zip’ saved [5363700/5363700]\n",
            "\n",
            "Archive:  ngrok-stable-linux-amd64.zip\n",
            "  inflating: ngrok                   \n",
            "Public TensorBoard URL: http://c5b4271e.ngrok.io\n",
            "Collecting tensorboardX\n",
            "\u001b[?25l  Downloading https://files.pythonhosted.org/packages/b1/d2/e08fe62f3554fbba081e80f6b23128df53b2f74ed4dcde73ec4a84dc53fb/tensorboardX-1.4-py2.py3-none-any.whl (67kB)\n",
            "\u001b[K    100% |████████████████████████████████| 71kB 5.2MB/s \n",
            "\u001b[?25hRequirement already satisfied: numpy in /usr/local/lib/python3.6/dist-packages (from tensorboardX) (1.14.5)\n",
            "Requirement already satisfied: six in /usr/local/lib/python3.6/dist-packages (from tensorboardX) (1.11.0)\n",
            "Requirement already satisfied: protobuf>=3.2.0 in /usr/local/lib/python3.6/dist-packages (from tensorboardX) (3.6.1)\n",
            "Requirement already satisfied: setuptools in /usr/local/lib/python3.6/dist-packages (from protobuf>=3.2.0->tensorboardX) (39.1.0)\n",
            "Installing collected packages: tensorboardX\n",
            "Successfully installed tensorboardX-1.4\n"
          ],
          "name": "stdout"
        }
      ]
    },
    {
      "metadata": {
        "id": "33QuvcBcT4Te",
        "colab_type": "text"
      },
      "cell_type": "markdown",
      "source": [
        "## The MNIST database\n",
        "\n",
        "[The MNIST database](https://en.wikipedia.org/wiki/MNIST_database) is a simple computer vision dataset. \n",
        "- It consists of images of handwritten digits from 0-9, and their image labels;\n",
        "- Each image is 28px * 28px;\n",
        "- The dataset is divided in two subsets, a \"training\" one containing 50000 samples and a \"testing\" one containing 10000 samples.\n",
        "<p><img src=\"https://upload.wikimedia.org/wikipedia/commons/2/27/MnistExamples.png\" alt=\"MNIST sample images.\"><br>Sample MNIST images. Image by <a href=\"//commons.wikimedia.org/w/index.php?title=User:Jost_swd15&amp;action=edit&amp;redlink=1\" class=\"new\" title=\"User:Jost swd15 (page does not exist)\">Josef Steppan</a> - <span class=\"int-own-work\" lang=\"en\">Own work</span>, <a href=\"https://creativecommons.org/licenses/by-sa/4.0\" title=\"Creative Commons Attribution-Share Alike 4.0\">CC BY-SA 4.0</a>, <a href=\"https://commons.wikimedia.org/w/index.php?curid=64810040\">Link</a></p>\n",
        "\n",
        "How do we load the images and their labels to train and test our models? As with other important datasets, PyTorch has [a convenient interface](https://pytorch.org/docs/stable/torchvision/datasets.html#) that simplifies our life. We want to use this interface to create \"data loaders\" that will enable us to access the data. We will actually do it twice for the training set, as we want to make sure all data we use for training and testing the network is normalized. Because of this, we'll load the training data first, compute the average and the standard deviation across all pixels in the dataset, and use those numbers to define new `train` and `test` data loaders that will automatically normalize all data going forward."
      ]
    },
    {
      "metadata": {
        "id": "mx7RVSreT1es",
        "colab_type": "code",
        "outputId": "11aa727e-eca3-43a8-831a-993b07ce1121",
        "colab": {
          "base_uri": "https://localhost:8080/",
          "height": 122
        }
      },
      "cell_type": "code",
      "source": [
        "# note that PyTorch will automatically download the data from the internet the\n",
        "# first time we ask it to load it. Hence we have to specify where it should keep\n",
        "# the data\n",
        "data_folder = \"./data\"\n",
        "\n",
        "# define a data loader that we will only use to compute mean and standard\n",
        "# deviation on the training set, with the purpose of normalizing all data\n",
        "trainset_unnormalized = torchvision.datasets.MNIST(root=data_folder, train=True,\n",
        "                                                  download=True, transform=torchvision.transforms.ToTensor())\n",
        "unnormalized_loader = torch.utils.data.DataLoader(trainset_unnormalized,\n",
        "                                                  batch_size=1000)"
      ],
      "execution_count": 0,
      "outputs": [
        {
          "output_type": "stream",
          "text": [
            "Downloading http://yann.lecun.com/exdb/mnist/train-images-idx3-ubyte.gz\n",
            "Downloading http://yann.lecun.com/exdb/mnist/train-labels-idx1-ubyte.gz\n",
            "Downloading http://yann.lecun.com/exdb/mnist/t10k-images-idx3-ubyte.gz\n",
            "Downloading http://yann.lecun.com/exdb/mnist/t10k-labels-idx1-ubyte.gz\n",
            "Processing...\n",
            "Done!\n"
          ],
          "name": "stdout"
        }
      ]
    },
    {
      "metadata": {
        "id": "ux-JRHl5wbcl",
        "colab_type": "text"
      },
      "cell_type": "markdown",
      "source": [
        "Before continuing, let's have a look at our raw data to see if it actually looks like hadwritten digits."
      ]
    },
    {
      "metadata": {
        "id": "fYNkNjdEwmcT",
        "colab_type": "code",
        "outputId": "638e7964-219d-4631-cd7c-3a2c2b195e09",
        "colab": {
          "base_uri": "https://localhost:8080/",
          "height": 154
        }
      },
      "cell_type": "code",
      "source": [
        "def imshow(img, ax=None):\n",
        "  \"\"\"Plot a PyTorch image using matplotlib\"\"\"\n",
        "  npimg = img.numpy()\n",
        "  if ax is None:\n",
        "    fig, ax = plt.subplots()\n",
        "  npimg = np.transpose(npimg, (1,2,0)) # this is needed as torch uses a (channel, height, width) representation while matplotlib usees (width, height, channel)\n",
        "  \n",
        "  npimg = (npimg - npimg.min(axis=(0,1)))/(npimg.max(axis=(0,1))-npimg.min(axis=(0,1))) # map the values to the interval [0,1] for each channel\n",
        "  ax.imshow(npimg)\n",
        "  ax.grid(False)\n",
        "\n",
        "# load one batch of images from the training set\n",
        "dataiter = iter(unnormalized_loader)\n",
        "images, labels = dataiter.next()\n",
        "\n",
        "# it will be useful, in the next cell, to be sure of the size of the images\n",
        "# (we know MNIST is 28x28 but it's better to make sure). In pytorch, batches of\n",
        "# data are organized as follows: (batch, channels, height, width), so if we want\n",
        "# the total number of pixels we have to multiply entries 2 and 3 of the size tuple\n",
        "# (remember that python uses 0-indexing)\n",
        "n_pixels = images.size()[2]*images.size()[3]\n",
        "\n",
        "# only keep the first 16 items of the minibatch for ease of visualization\n",
        "images = images[:16]\n",
        "labels = labels[:16]\n",
        "\n",
        "# print labels\n",
        "print('True labels for the images below:', ' '.join(('{}'.format(j) for j in labels)))\n",
        "\n",
        "# show images\n",
        "imshow(torchvision.utils.make_grid(images))"
      ],
      "execution_count": 0,
      "outputs": [
        {
          "output_type": "stream",
          "text": [
            "True labels for the images below: 5 0 4 1 9 2 1 3 1 4 3 5 3 6 1 7\n"
          ],
          "name": "stdout"
        },
        {
          "output_type": "display_data",
          "data": {
            "image/png": "[encoded data removed]",
            "text/plain": [
              "<matplotlib.figure.Figure at 0x7fa6230f5240>"
            ]
          },
          "metadata": {
            "tags": []
          }
        }
      ]
    },
    {
      "metadata": {
        "id": "OcTeTnwRwYLB",
        "colab_type": "code",
        "colab": {}
      },
      "cell_type": "code",
      "source": [
        "# iterate over the training images, keeping a running average of the pixel value\n",
        "# and their second power. We are performing this iteration in batches of 1000\n",
        "# images at the time (controlled by the batch_size parameter in the line above).\n",
        "# Strictly speaking this is unnecessary as the whole dataset can easily fit into\n",
        "# memory, but we'll do it anyway to show how to iterate over a dataset in\n",
        "# batches using a data loader.\n",
        "n_total_images = len(trainset_unnormalized)\n",
        "train_mean = 0\n",
        "train_mean_squares = 0\n",
        "for i, data in enumerate(unnormalized_loader):\n",
        "  images, labels = data\n",
        "  train_mean += images.sum()/(n_total_images*n_pixels)\n",
        "  train_mean_squares += images.pow(2).sum()/(n_total_images*n_pixels)\n",
        "  \n",
        "train_std = (train_mean_squares-train_mean.pow(2)).sqrt()\n",
        "\n",
        "# now that we have the mean and the standard deviation, define the data loaders\n",
        "# we'll actually use such that the data will be automatically standardized at\n",
        "# load time.\n",
        "\n",
        "load_transform = torchvision.transforms.Compose([torchvision.transforms.ToTensor(),\n",
        "                                                 torchvision.transforms.Normalize((train_mean,), (train_std,))])\n",
        "\n",
        "trainset = torchvision.datasets.MNIST(root=data_folder, train=True,\n",
        "                                      download=True, transform=load_transform)\n",
        "testset =  torchvision.datasets.MNIST(root=data_folder, train=False,\n",
        "                                      download=True, transform=load_transform)\n",
        "\n",
        "trainloader = torch.utils.data.DataLoader(trainset, batch_size=100, shuffle=True)\n",
        "testloader = torch.utils.data.DataLoader(testset, batch_size=100, shuffle=False)"
      ],
      "execution_count": 0,
      "outputs": []
    },
    {
      "metadata": {
        "id": "p2oOMRvPwKAR",
        "colab_type": "text"
      },
      "cell_type": "markdown",
      "source": [
        "## Define and instantiate the network"
      ]
    },
    {
      "metadata": {
        "id": "lKgQ5JOxmYEy",
        "colab_type": "code",
        "colab": {}
      },
      "cell_type": "code",
      "source": [
        "class Net(nn.Module):\n",
        "  def __init__(self):\n",
        "    super(Net, self).__init__()\n",
        "    # in PyTorch, we often specify all layers of the network that require hyperparameters\n",
        "    # by creating them here inside __init__. The connections between layers will\n",
        "    # be established below, inside the forward() method. Note that the order in\n",
        "    # which we create them here does not matter, as the connections between them\n",
        "    # will be specified by the forward() method below.\n",
        "    self.conv1 = nn.Conv2d(in_channels=1, padding=2, out_channels=32, kernel_size=5) # what is the output size?\n",
        "    self.pool1 = nn.MaxPool2d(kernel_size=2, stride=2) # what is the output size?\n",
        "    self.conv2 = nn.Conv2d(in_channels=32, padding=2, out_channels=64, kernel_size=5)# what is the output size?\n",
        "    self.pool2 = nn.MaxPool2d(kernel_size=2, stride=2) # what is the output size?\n",
        "    self.fc1 = nn.Linear(in_features=64*7*7, out_features=1024) # where is the value passed as the in_features argument coming from?\n",
        "    self.fc2 = nn.Linear(in_features=1024, out_features=10)\n",
        "    self.dropout = nn.Dropout(p=0.5)\n",
        "    \n",
        "  def forward(self, x):\n",
        "    # this method specifies how the network processes its inputs - in other words, it describes the network's connectivity.\n",
        "    \n",
        "    # first convolution, followed by ReLU nonlinearity and pooling\n",
        "    x = self.pool1(F.relu(self.conv1(x)))\n",
        "    \n",
        "    # second convolution, followed by ReLU nonlinearity and pooling    \n",
        "    x = self.pool2(F.relu(self.conv2(x)))\n",
        "    \n",
        "    # reshape layer (concatenate all features, removing their \"topographic\" arrangement)\n",
        "    x = x.view(-1, 64*7*7)\n",
        "    \n",
        "    # first fully connected layer (with ReLU nonlinearity)\n",
        "    x = F.relu(self.fc1(x))\n",
        "    \n",
        "    # dropout (regularization)\n",
        "    x = self.dropout(x)\n",
        "    \n",
        "    # second fully connected layer\n",
        "    x = self.fc2(x)\n",
        "    \n",
        "    # softmax (\"squashing nonlinearity\") operation. This maps all values to the \n",
        "    # [0,1] interval, so that the final output can be interpreted as the \n",
        "    # probability of belonging to each of the 10 classes. Note that here, for \n",
        "    # easier later processing, we're actually computing the log of the softmax,\n",
        "    # so the outputs can be interpreted as log-probabilities.\n",
        "    x = F.log_softmax(x, dim=1)\n",
        "    \n",
        "    return x"
      ],
      "execution_count": 0,
      "outputs": []
    },
    {
      "metadata": {
        "id": "a2H-zOvkvWUt",
        "colab_type": "code",
        "outputId": "23b441d6-0a02-472e-9fcd-9777c43e69ce",
        "colab": {
          "base_uri": "https://localhost:8080/",
          "height": 175
        }
      },
      "cell_type": "code",
      "source": [
        "# instantiate network\n",
        "net = Net()\n",
        "\n",
        "# move network to GPU if available\n",
        "net.to(device)"
      ],
      "execution_count": 0,
      "outputs": [
        {
          "output_type": "execute_result",
          "data": {
            "text/plain": [
              "Net(\n",
              "  (conv1): Conv2d(1, 32, kernel_size=(5, 5), stride=(1, 1), padding=(2, 2))\n",
              "  (pool1): MaxPool2d(kernel_size=2, stride=2, padding=0, dilation=1, ceil_mode=False)\n",
              "  (conv2): Conv2d(32, 64, kernel_size=(5, 5), stride=(1, 1), padding=(2, 2))\n",
              "  (pool2): MaxPool2d(kernel_size=2, stride=2, padding=0, dilation=1, ceil_mode=False)\n",
              "  (fc1): Linear(in_features=3136, out_features=1024, bias=True)\n",
              "  (fc2): Linear(in_features=1024, out_features=10, bias=True)\n",
              "  (dropout): Dropout(p=0.5)\n",
              ")"
            ]
          },
          "metadata": {
            "tags": []
          },
          "execution_count": 7
        }
      ]
    },
    {
      "metadata": {
        "id": "c6zqF3ugNyt6",
        "colab_type": "text"
      },
      "cell_type": "markdown",
      "source": [
        "## Define useful functions for visualization\n",
        "\n"
      ]
    },
    {
      "metadata": {
        "id": "v1bIwse0N3pB",
        "colab_type": "code",
        "colab": {}
      },
      "cell_type": "code",
      "source": [
        "def make_filter_image(layer, use_color=True, scale_each=True):\n",
        "  \"\"\"Build an image of the weights of the filters in a given convolutional layer.\"\"\"\n",
        "  weights = layer.weight.data.to(\"cpu\")\n",
        "  if not use_color:\n",
        "    n_input_channels = weights.size()[1]\n",
        "    weights = weights.view([weights.size()[0], 1, weights.size()[1]*weights.size()[2], weights.size()[3]])\n",
        "  img = torchvision.utils.make_grid(weights, normalize=True, scale_each=scale_each)\n",
        "  return img\n",
        "  \n",
        "def visualize_filters(layer, use_color=True, scale_each=True):\n",
        "  \"\"\"Plot the weights of the filters in a given convolutional layer.\n",
        "  \n",
        "    \n",
        "  If use_color is true (default), the input layer is expected to have either 1 (grayscale)\n",
        "  or 3(rgb) channels. This is useful for plotting the weights of the first hidden\n",
        "  layer of the network. If you want to plot the weights of later layer, where the\n",
        "  number of input channels is arbitrary set use_color to false.\n",
        "  \n",
        "  If scale_each is true (default), the values in each filter will be scaled\n",
        "  independently before plotting; this makes the features of each individual\n",
        "  filter stand out more. If it's false, the scaling will be done globally\n",
        "  across all filters; this allows one to compare the filters.\"\"\"\n",
        "  \n",
        "  img = make_filter_image(layer, use_color=use_color, scale_each=scale_each)\n",
        "  size = 4+max(img.size())/10\n",
        "  fig, ax = plt.subplots(figsize=(size,size))\n",
        "  imshow(img, ax)\n"
      ],
      "execution_count": 0,
      "outputs": []
    },
    {
      "metadata": {
        "id": "fSR7U9JMlD12",
        "colab_type": "text"
      },
      "cell_type": "markdown",
      "source": [
        "## Define the loss function\n",
        "As a loss function, a standard choice for a classification problem is the cross entropy loss. The cross entropy between two discrete distributions $p[i]$ and $q[i]$ is defined as\n",
        "$$\n",
        "H(p,q) = -\\sum_i p[i]\\log(q[i])\n",
        "$$\n",
        "\n",
        "In a classification problem, the index $i$ above would refer to the different classes we're trying to assign our data to. If we have a sample whose true class is class $c$, we say that the true probability distribution over classes for that sample is $p[i]=\\delta_{i,c}$, namely $p[i]=1$ if $i=c$ and $p[i]=0$ otherwise. The distribution $q$, on the other hand, is what comes from our neural network: if the last hidden layer is $\\mathbf{h}$ and the outputs are computed by the \"squashing nonlinearity\" softmax,\n",
        "$$\n",
        "q[i] = \\frac{\\exp(h_i)}{\\sum_j\\exp{h_j}}\n",
        "$$\n",
        "\n",
        "If we plug these values into the expression for the relative entropy, we get\n",
        "$$\n",
        "H(p,q) = -\\sum_i \\delta_{i,c}\\log\\left(\\frac{\\exp(h_i)}{\\sum_l\\exp(h_l)}\\right) = -\\log\\left(\\frac{\\exp(h_c)}{\\sum_l\\exp(h_l)}\\right)\n",
        "$$\n",
        "We note that the last expression corresponds to the negative log likelihood of the data under the model defined by the network (i.e. it's just minus the log of the probability assigned by the network to the correct class). Hence, in PyTorch, to compute this function we use the [negative log likelihood loss](https://pytorch.org/docs/stable/nn.html?highlight=crossentropy#nllloss) class. Note that PyTorch also has a [CrossEntropyLoss](https://pytorch.org/docs/stable/nn.html?highlight=crossentropy#crossentropyloss) class that combines the softmax and the negative log likelihood if you don't want to compute them in separate steps.\n",
        "\n",
        "During the optimization of our network we will also impose L2 regularization. Conceptually, this should be an added term to the loss function:\n",
        "$$\n",
        "\\mathcal{L} = \\tilde{\\mathcal{L}} + \\lambda\\frac{1}{2}\\|\\mathbf{w}\\|^2 \n",
        "$$\n",
        "where $\\tilde{\\mathcal{L}}$ is our original loss function, $\\|\\mathbf{w}\\|^2$ is the square norm of the weight vector, and $\\lambda$ a hyperparameter controlling the strength of the regularization and to be set by crossvalidation. As this is a very common form of regularization, PyTorch offers a convenient shortcut for implementing it, by simply passing $\\lambda$ as the `weight_decay` parameter to the optimizer (see the definition of the optimizer in the next cell). The reason for the name of the parameter is that, for each weight $w$, the L2 regularization term adds to the gradient the following term:\n",
        "$$\n",
        "-\\frac{\\partial}{\\partial w}\\left(\\frac{1}{2}\\lambda w^2\\right) = -\\lambda w\n",
        "$$\n",
        "which has the effect of decaying the weight linearly towards zero.\n",
        "\n",
        "### Aside: cross entropy and Kullback-Leibler divergence\n",
        "Finally, another observation on the cross entropy loss. Note that the cross entropy can also be written as\n",
        "$$\n",
        "H(p,q) = H(p) + D_{KL}(p,q) = -\\sum_i p[i]\\log(p[i]) + \\sum_i p_i \\log\\left(\\frac{p[i]}{q[i]}\\right)\n",
        "$$\n",
        "where $D_{KL}(p,q)$ is the [Kullback-Leibler divergence](https://en.wikipedia.org/wiki/Kullback%E2%80%93Leibler_divergence) between $p$ and $q$, and is a measure of dissimilarity between two probability distributions. In general, minimizing $H(p,q)$ with respect to some parameters $\\Theta$ when only $q$ depends on $\\Theta$ (as in our case, since we are minimizing with respect to the parameters of the networks, which only affect the network's output $q$) is equivalent to minimizing $D_{KL}$, and in that sense using the cross entropy loss means driving our network to reproduce the true probability distribution. Note that in the particular case of classification, with the choice for $p$ that we made above ($p[i]=\\delta_{i,c}$), it is easy to see that $H(p)=0$, and therefore $H(p,q)=D_{KL}(p,q)$."
      ]
    },
    {
      "metadata": {
        "id": "8nz-U-mJlC5w",
        "colab_type": "code",
        "colab": {}
      },
      "cell_type": "code",
      "source": [
        "# negative log likelihood loss (same as cross entropy in our case)\n",
        "criterion = nn.NLLLoss()\n"
      ],
      "execution_count": 0,
      "outputs": []
    },
    {
      "metadata": {
        "id": "Nppnr7nh3EvJ",
        "colab_type": "text"
      },
      "cell_type": "markdown",
      "source": [
        "## Define an optimizer\n",
        "\n",
        "For this example we will simply use stochastic gradient descent with momentum. Given a loss function $\\mathcal{L}$, the update rule for weight $w$ is\n",
        "$$\n",
        "\\Delta w := -\\eta\\frac{\\partial\\mathcal{L}}{\\partial w} + \\alpha \\Delta w\n",
        "$$\n",
        "where $\\eta$ is the learning rate and $\\alpha$ is the momentum parameter.\n",
        "\n",
        "Have a look at PyTorch's [documentation](https://pytorch.org/docs/stable/optim.html#algorithms) to see what other optimizers are available - feel free to experiment and see what happens!"
      ]
    },
    {
      "metadata": {
        "id": "uUNkBJAc5m0e",
        "colab_type": "code",
        "colab": {}
      },
      "cell_type": "code",
      "source": [
        "optimizer = optim.SGD(net.parameters(), lr=0.1, momentum=0.9, c) # for the weight_decay parameter, see explanation in the cell above (L2 regularization)"
      ],
      "execution_count": 0,
      "outputs": []
    },
    {
      "metadata": {
        "id": "guLdmWZllrlr",
        "colab_type": "text"
      },
      "cell_type": "markdown",
      "source": [
        "## Train the network"
      ]
    },
    {
      "metadata": {
        "id": "4572SNd2ll2e",
        "colab_type": "code",
        "outputId": "d3a0efe2-c9ec-4960-8ea3-5c5b1424ff5e",
        "colab": {
          "base_uri": "https://localhost:8080/",
          "height": 246
        }
      },
      "cell_type": "code",
      "source": [
        "# number of epochs (iterations over the whole training dataset) we want to train\n",
        "# the model for. A very small number should be sufficient (1 or 2), but if you \n",
        "# are running this on a GPU you can also try increasing it, since it's much faster\n",
        "# that way.\n",
        "n_epochs = 2\n",
        "\n",
        "# set the network in \"training mode\". This affects the behaviour of the dropout \n",
        "# layer by \"activating\" it.\n",
        "net.train() \n",
        "\n",
        "# initialize logger\n",
        "writer = SummaryWriter()\n",
        "\n",
        "plot_iteration = 0\n",
        "for epoch in range(n_epochs):\n",
        "  \n",
        "  running_loss = 0 # we will update this value with a running average of the loss, computed by hand, to print during trainig. Note that the loss can also be seen on TensorBoard, and the plot has a smoothing option.\n",
        "  for i, data in enumerate(trainloader):\n",
        "    # get the next minibatch of data\n",
        "    inputs, labels = data\n",
        "    \n",
        "    # move data and labels to GPU if available\n",
        "    inputs = inputs.to(device)\n",
        "    labels = labels.to(device)\n",
        "    \n",
        "    # zero the gradients (this is needed because PyTorch accumulates gradients \n",
        "    # in all parameters every time we call loss.backward())\n",
        "    optimizer.zero_grad()\n",
        "    \n",
        "    # forward propagation of inputs: compute the activation of all units within the network\n",
        "    outputs = net(inputs)\n",
        "    \n",
        "    # compute the loss\n",
        "    loss = criterion(outputs, labels)\n",
        "    \n",
        "    # backpropagation: compute the numerical gradient of the loss with respect to\n",
        "    # all parameters, evaluated for the current values of the activations and the loss.\n",
        "    # As mentioned above, these values are stored locally within each parameter.\n",
        "    loss.backward()\n",
        "    \n",
        "    # take a step with the optimizer we have defined above. The optimizer will \n",
        "    # go through all the parameters it know about (which we have specified when\n",
        "    # we created it), and update them according to the gradients it will find there,\n",
        "    # which we have computed when we performed backpropagation.\n",
        "    optimizer.step()\n",
        "    \n",
        "    # print some statistics\n",
        "    running_loss += loss.item() # the .item() method casts a pytorch tensor of size 1 to a simple python scalar\n",
        "    if i % 10 == 0:\n",
        "      # every ten minibatches, send a picture of the 1st layer filters and the \n",
        "      # value of the loss to TensorBoard, which will automatically figure out how to plot them.\n",
        "      writer.add_image('Layer 1 filters', make_filter_image(net.conv1), plot_iteration)\n",
        "      writer.add_scalar('Loss', loss.item(), plot_iteration)\n",
        "      plot_iteration += 1\n",
        "    if i % 100 == 99:\n",
        "      # every 100 minibatches, print some information in the cell output.\n",
        "      print(\"[epoch {}, iter {}] loss: {:.3f}\".format(epoch+1, i+1, running_loss/100))\n",
        "      running_loss = 0\n",
        "\n",
        "# close the logger\n",
        "writer.close()\n",
        "\n",
        "print(\"Finished training\")"
      ],
      "execution_count": 0,
      "outputs": [
        {
          "output_type": "stream",
          "text": [
            "[epoch 1, iter 100] loss: 0.559\n",
            "[epoch 1, iter 200] loss: 0.194\n",
            "[epoch 1, iter 300] loss: 0.139\n",
            "[epoch 1, iter 400] loss: 0.139\n",
            "[epoch 1, iter 500] loss: 0.128\n",
            "[epoch 1, iter 600] loss: 0.149\n",
            "[epoch 2, iter 100] loss: 0.119\n",
            "[epoch 2, iter 200] loss: 0.103\n",
            "[epoch 2, iter 300] loss: 0.137\n",
            "[epoch 2, iter 400] loss: 0.120\n",
            "[epoch 2, iter 500] loss: 0.122\n",
            "[epoch 2, iter 600] loss: 0.125\n",
            "Finished training\n"
          ],
          "name": "stdout"
        }
      ]
    },
    {
      "metadata": {
        "id": "X343ZkMMrWTE",
        "colab_type": "text"
      },
      "cell_type": "markdown",
      "source": [
        "## Test on held out data"
      ]
    },
    {
      "metadata": {
        "id": "tuyeu52rqJj3",
        "colab_type": "code",
        "outputId": "2e421cf1-ba9f-44e2-fa86-565c0ecd6afa",
        "colab": {
          "base_uri": "https://localhost:8080/",
          "height": 342
        }
      },
      "cell_type": "code",
      "source": [
        "net.eval() # set the network in evaluation mode (as opposed to training mode; see comment above when we called net.train())\n",
        "\n",
        "# load a set of example images from the testing set\n",
        "dataiter = iter(testloader)\n",
        "images, labels = dataiter.next()\n",
        "\n",
        "num_examples = images.size()[0]\n",
        "\n",
        "# plot the examples\n",
        "imshow(torchvision.utils.make_grid(images))\n",
        "\n",
        "# move the examples and the labels to the GPU if available (if the network is on the GPU, we have to move any data there before processing it!)\n",
        "images = images.to(device)\n",
        "labels = labels.to(device)\n",
        "\n",
        "# compute predictions and bring them back to the CPU\n",
        "outputs = net(images)\n",
        "_, predictions = torch.max(outputs, 1)\n",
        "\n",
        "\n",
        "#print(' '.join(('{}'.format(j) for j in labels)))\n",
        "print(\"Ground truth: \", \" \".join(\"{}\".format(labels[j]) for j in range(num_examples)))\n",
        "print(\"Predicted:    \", \" \".join(\"{}\".format(predictions[j]) for j in range(num_examples)))\n",
        "print(\"Accuracy: {}%\".format(100*(labels==predictions).sum()/num_examples))"
      ],
      "execution_count": 0,
      "outputs": [
        {
          "output_type": "stream",
          "text": [
            "Ground truth:  7 2 1 0 4 1 4 9 5 9 0 6 9 0 1 5 9 7 3 4 9 6 6 5 4 0 7 4 0 1 3 1 3 4 7 2 7 1 2 1 1 7 4 2 3 5 1 2 4 4 6 3 5 5 6 0 4 1 9 5 7 8 9 3 7 4 6 4 3 0 7 0 2 9 1 7 3 2 9 7 7 6 2 7 8 4 7 3 6 1 3 6 9 3 1 4 1 7 6 9\n",
            "Predicted:     7 2 1 0 4 1 4 9 5 9 0 6 9 0 1 5 9 7 3 4 9 6 6 5 4 0 7 4 0 1 3 1 3 4 7 2 7 1 2 1 1 7 4 2 3 5 1 2 4 4 6 3 5 5 6 0 4 1 9 5 7 8 5 3 7 4 6 4 3 0 7 0 2 9 1 7 3 2 8 7 7 6 2 7 8 4 7 3 6 1 3 6 9 3 1 4 1 7 6 9\n",
            "Accuracy: 98%\n"
          ],
          "name": "stdout"
        },
        {
          "output_type": "display_data",
          "data": {
            "image/png": "[encoded data removed]",
            "text/plain": [
              "<matplotlib.figure.Figure at 0x7fa61e2cb978>"
            ]
          },
          "metadata": {
            "tags": []
          }
        }
      ]
    },
    {
      "metadata": {
        "id": "3rIiHLxpzOXD",
        "colab_type": "text"
      },
      "cell_type": "markdown",
      "source": [
        "## Visualize filters\n",
        "The filters of the trained network can be visualized by using the same function we used to generate the images to send to TensorBoard during training (but you are encouraged to use TensorBoard and look at how the filters evolved from their initial state!).\n",
        "\n",
        "Looking at the plot below, do you see any interesting pattern?"
      ]
    },
    {
      "metadata": {
        "id": "MkdXnSIlzW8K",
        "colab_type": "code",
        "outputId": "c6aec212-960c-4509-cf15-79472862275a",
        "colab": {
          "base_uri": "https://localhost:8080/",
          "height": 331
        }
      },
      "cell_type": "code",
      "source": [
        "visualize_filters(net.conv1)"
      ],
      "execution_count": 0,
      "outputs": [
        {
          "output_type": "display_data",
          "data": {
            "image/png": "[encoded data removed]",
            "text/plain": [
              "<matplotlib.figure.Figure at 0x7fa58c14fc88>"
            ]
          },
          "metadata": {
            "tags": []
          }
        }
      ]
    },
    {
      "metadata": {
        "id": "lA-au5I9DHo-",
        "colab_type": "text"
      },
      "cell_type": "markdown",
      "source": [
        "# Exercise\n",
        "\n",
        "Now try to implement a convolutional network that performs image classification on [CIFAR10](https://www.cs.toronto.edu/~kriz/cifar.html). CIFAR10 is an established computer-vision dataset used for object recognition. It is a subset of the [80 million tiny images dataset](http://people.csail.mit.edu/torralba/tinyimages/) and consists of 60,000 32x32 color images containing one of 10 object classes, with 6000 images per class. The object classes are the following:\n",
        "\n",
        "\n",
        "0. Airplane\n",
        "1. Automobile\n",
        "2. Bird\n",
        "3. Cat\n",
        "4. Deer\n",
        "5. Dog\n",
        "6. Frog\n",
        "7. Horse\n",
        "8. Ship\n",
        "9. Truck\n",
        "\n",
        "<p><img src=\"https://kaggle2.blob.core.windows.net/competitions/kaggle/3649/media/cifar-10.png\" alt=\"CIFAR sample images.\" style=\"width: 500px;\"><br>Sample CIFAR images.</p>\n",
        "\n",
        "\n",
        "Like MNIST, CIFAR is accessible [directly from within PyTorch](https://pytorch.org/docs/stable/torchvision/datasets.html#cifar); the data loader interface should look very similar. You can start by implementing an architecture like the one we used for MNIST, and by training it in a similar way. **Note that the input is RGB color, and has a different size than MNIST (CIFAR is 3x32x32 while MNIST is 1x28x28), so you'll probably have to start by adjusting your architecture to cope with that**. After getting it to run, you can experiment with altering it to see what happens if you add, remove or change the size of filters, add or remove layers, etc."
      ]
    },
    {
      "metadata": {
        "id": "pzJOxVmBwFha",
        "colab_type": "text"
      },
      "cell_type": "markdown",
      "source": [
        "---\n",
        "Let's move to the next tutorial: [transfer learning](https://colab.research.google.com/drive/15exgMLrj7azSMQeKXBYwuHZAdJdCQloh).\n"
      ]
    },
    {
      "metadata": {
        "id": "DzYP6fAcwZMA",
        "colab_type": "code",
        "colab": {}
      },
      "cell_type": "code",
      "source": [
        "# uncomment and run this if you want to delete all TensorBoard logs\n",
        "#!rm -r $LOG_DIR"
      ],
      "execution_count": 0,
      "outputs": []
    },
    {
      "metadata": {
        "id": "NCWFNrY78BkY",
        "colab_type": "code",
        "colab": {}
      },
      "cell_type": "code",
      "source": [
        ""
      ],
      "execution_count": 0,
      "outputs": []
    }
  ]
}