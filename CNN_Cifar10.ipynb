{
  "nbformat": 4,
  "nbformat_minor": 0,
  "metadata": {
    "colab": {
      "name": "CNN_Cifar10",
      "version": "0.3.2",
      "provenance": [],
      "include_colab_link": true
    },
    "kernelspec": {
      "name": "python3",
      "display_name": "Python 3"
    },
    "accelerator": "GPU"
  },
  "cells": [
    {
      "cell_type": "markdown",
      "metadata": {
        "id": "view-in-github",
        "colab_type": "text"
      },
      "source": [
        "<a href=\"https://colab.research.google.com/github/keranrong/MITBrain_DeepLearningTutorial/blob/master/CNN_Cifar10.ipynb\" target=\"_parent\"><img src=\"https://colab.research.google.com/assets/colab-badge.svg\" alt=\"Open In Colab\"/></a>"
      ]
    },
    {
      "metadata": {
        "id": "OyqEuw9EQruZ",
        "colab_type": "code",
        "colab": {}
      },
      "cell_type": "code",
      "source": [
        "from __future__ import print_function\n",
        "import keras\n",
        "from keras.datasets import cifar10\n",
        "from keras.preprocessing.image import ImageDataGenerator\n",
        "from keras.models import Sequential\n",
        "from keras.layers import Dense, Dropout, Activation, Flatten\n",
        "from keras.layers import Conv2D, MaxPooling2D\n",
        "import os"
      ],
      "execution_count": 0,
      "outputs": []
    },
    {
      "metadata": {
        "id": "RV6BTE4DQ5vL",
        "colab_type": "code",
        "colab": {}
      },
      "cell_type": "code",
      "source": [
        "batch_size = 32\n",
        "num_classes = 10\n",
        "epochs = 100\n",
        "data_augmentation = False\n",
        "num_predictions = 20\n",
        "save_dir = os.path.join(os.getcwd(), 'saved_models')\n",
        "model_name = 'keras_cifar10_trained_model.h5'"
      ],
      "execution_count": 0,
      "outputs": []
    },
    {
      "metadata": {
        "id": "eXFtttd_RFzB",
        "colab_type": "code",
        "outputId": "24fcaf92-e58a-4b90-c5dc-2b24dc8e9b7c",
        "colab": {
          "base_uri": "https://localhost:8080/",
          "height": 103
        }
      },
      "cell_type": "code",
      "source": [
        "# The data, split between train and test sets:\n",
        "(x_train, y_train), (x_test, y_test) = cifar10.load_data()\n",
        "print('x_train shape:', x_train.shape)\n",
        "print(x_train.shape[0], 'train samples')\n",
        "print(x_test.shape[0], 'test samples')"
      ],
      "execution_count": 0,
      "outputs": [
        {
          "output_type": "stream",
          "text": [
            "Downloading data from https://www.cs.toronto.edu/~kriz/cifar-10-python.tar.gz\n",
            "170500096/170498071 [==============================] - 11s 0us/step\n",
            "x_train shape: (50000, 32, 32, 3)\n",
            "50000 train samples\n",
            "10000 test samples\n"
          ],
          "name": "stdout"
        }
      ]
    },
    {
      "metadata": {
        "id": "CWq_spLzR5SR",
        "colab_type": "code",
        "colab": {}
      },
      "cell_type": "code",
      "source": [
        "# Convert class vectors to binary class matrices.\n",
        "y_train = keras.utils.to_categorical(y_train, num_classes)\n",
        "y_test = keras.utils.to_categorical(y_test, num_classes)"
      ],
      "execution_count": 0,
      "outputs": []
    },
    {
      "metadata": {
        "id": "7qNECsW6SgFo",
        "colab_type": "code",
        "outputId": "754b4f64-27aa-4e78-e743-e10524d84fbd",
        "colab": {
          "base_uri": "https://localhost:8080/",
          "height": 140
        }
      },
      "cell_type": "code",
      "source": [
        "model = Sequential()\n",
        "model.add(Conv2D(32, (3, 3), padding='same',\n",
        "                 input_shape=x_train.shape[1:]))\n",
        "model.add(Activation('relu'))\n",
        "model.add(Conv2D(32, (3, 3)))\n",
        "model.add(Activation('relu'))\n",
        "model.add(MaxPooling2D(pool_size=(2, 2)))\n",
        "model.add(Dropout(0.25))\n",
        "\n",
        "model.add(Conv2D(64, (3, 3), padding='same'))\n",
        "model.add(Activation('relu'))\n",
        "model.add(Conv2D(64, (3, 3)))\n",
        "model.add(Activation('relu'))\n",
        "model.add(MaxPooling2D(pool_size=(2, 2)))\n",
        "model.add(Dropout(0.25))\n",
        "\n",
        "model.add(Flatten())\n",
        "model.add(Dense(512))\n",
        "model.add(Activation('relu'))\n",
        "model.add(Dropout(0.5))\n",
        "model.add(Dense(num_classes))\n",
        "model.add(Activation('softmax'))"
      ],
      "execution_count": 0,
      "outputs": [
        {
          "output_type": "stream",
          "text": [
            "WARNING:tensorflow:From /usr/local/lib/python3.6/dist-packages/tensorflow/python/framework/op_def_library.py:263: colocate_with (from tensorflow.python.framework.ops) is deprecated and will be removed in a future version.\n",
            "Instructions for updating:\n",
            "Colocations handled automatically by placer.\n",
            "WARNING:tensorflow:From /usr/local/lib/python3.6/dist-packages/keras/backend/tensorflow_backend.py:3445: calling dropout (from tensorflow.python.ops.nn_ops) with keep_prob is deprecated and will be removed in a future version.\n",
            "Instructions for updating:\n",
            "Please use `rate` instead of `keep_prob`. Rate should be set to `rate = 1 - keep_prob`.\n"
          ],
          "name": "stdout"
        }
      ]
    },
    {
      "metadata": {
        "id": "IzZ7ksuqSvbw",
        "colab_type": "code",
        "colab": {}
      },
      "cell_type": "code",
      "source": [
        "# initiate RMSprop optimizer\n",
        "opt = keras.optimizers.rmsprop(lr=0.0001, decay=1e-6)\n",
        "\n",
        "# Let's train the model using RMSprop\n",
        "model.compile(loss='categorical_crossentropy',\n",
        "              optimizer=opt,\n",
        "              metrics=['accuracy'])\n",
        "\n",
        "x_train = x_train.astype('float32')\n",
        "x_test = x_test.astype('float32')\n",
        "x_train /= 255\n",
        "x_test /= 255"
      ],
      "execution_count": 0,
      "outputs": []
    },
    {
      "metadata": {
        "id": "Z7qeCeN7S0XQ",
        "colab_type": "code",
        "outputId": "b80d8808-3b80-46b8-980e-7fb23219f909",
        "colab": {
          "base_uri": "https://localhost:8080/",
          "height": 3598
        }
      },
      "cell_type": "code",
      "source": [
        "if not data_augmentation:\n",
        "    print('Not using data augmentation.')\n",
        "    model.fit(x_train, y_train,\n",
        "              batch_size=batch_size,\n",
        "              epochs=epochs,\n",
        "              validation_data=(x_test, y_test),\n",
        "              shuffle=True)\n",
        "else:\n",
        "    print('Using real-time data augmentation.')\n",
        "    # This will do preprocessing and realtime data augmentation:\n",
        "    datagen = ImageDataGenerator(\n",
        "        featurewise_center=False,  # set input mean to 0 over the dataset\n",
        "        samplewise_center=False,  # set each sample mean to 0\n",
        "        featurewise_std_normalization=False,  # divide inputs by std of the dataset\n",
        "        samplewise_std_normalization=False,  # divide each input by its std\n",
        "        zca_whitening=False,  # apply ZCA whitening\n",
        "        zca_epsilon=1e-06,  # epsilon for ZCA whitening\n",
        "        rotation_range=0,  # randomly rotate images in the range (degrees, 0 to 180)\n",
        "        # randomly shift images horizontally (fraction of total width)\n",
        "        width_shift_range=0.1,\n",
        "        # randomly shift images vertically (fraction of total height)\n",
        "        height_shift_range=0.1,\n",
        "        shear_range=0.,  # set range for random shear\n",
        "        zoom_range=0.,  # set range for random zoom\n",
        "        channel_shift_range=0.,  # set range for random channel shifts\n",
        "        # set mode for filling points outside the input boundaries\n",
        "        fill_mode='nearest',\n",
        "        cval=0.,  # value used for fill_mode = \"constant\"\n",
        "        horizontal_flip=True,  # randomly flip images\n",
        "        vertical_flip=False,  # randomly flip images\n",
        "        # set rescaling factor (applied before any other transformation)\n",
        "        rescale=None,\n",
        "        # set function that will be applied on each input\n",
        "        preprocessing_function=None,\n",
        "        # image data format, either \"channels_first\" or \"channels_last\"\n",
        "        data_format=None,\n",
        "        # fraction of images reserved for validation (strictly between 0 and 1)\n",
        "        validation_split=0.0)\n",
        "\n",
        "    # Compute quantities required for feature-wise normalization\n",
        "    # (std, mean, and principal components if ZCA whitening is applied).\n",
        "    datagen.fit(x_train)\n",
        "\n",
        "    # Fit the model on the batches generated by datagen.flow().\n",
        "    model.fit_generator(datagen.flow(x_train, y_train,\n",
        "                                     batch_size=batch_size),\n",
        "                        epochs=epochs,\n",
        "                        validation_data=(x_test, y_test),\n",
        "                        workers=4)"
      ],
      "execution_count": 7,
      "outputs": [
        {
          "output_type": "stream",
          "text": [
            "Not using data augmentation.\n",
            "WARNING:tensorflow:From /usr/local/lib/python3.6/dist-packages/tensorflow/python/ops/math_ops.py:3066: to_int32 (from tensorflow.python.ops.math_ops) is deprecated and will be removed in a future version.\n",
            "Instructions for updating:\n",
            "Use tf.cast instead.\n",
            "Train on 50000 samples, validate on 10000 samples\n",
            "Epoch 1/100\n",
            "50000/50000 [==============================] - 25s 493us/step - loss: 1.8306 - acc: 0.3295 - val_loss: 1.5703 - val_acc: 0.4297\n",
            "Epoch 2/100\n",
            "50000/50000 [==============================] - 20s 395us/step - loss: 1.5219 - acc: 0.4464 - val_loss: 1.3913 - val_acc: 0.4990\n",
            "Epoch 3/100\n",
            "50000/50000 [==============================] - 20s 393us/step - loss: 1.3769 - acc: 0.5044 - val_loss: 1.2789 - val_acc: 0.5400\n",
            "Epoch 4/100\n",
            "50000/50000 [==============================] - 20s 394us/step - loss: 1.2795 - acc: 0.5439 - val_loss: 1.2113 - val_acc: 0.5792\n",
            "Epoch 5/100\n",
            "50000/50000 [==============================] - 20s 395us/step - loss: 1.1978 - acc: 0.5782 - val_loss: 1.1763 - val_acc: 0.5878\n",
            "Epoch 6/100\n",
            "50000/50000 [==============================] - 20s 396us/step - loss: 1.1306 - acc: 0.6012 - val_loss: 1.0263 - val_acc: 0.6428\n",
            "Epoch 7/100\n",
            "50000/50000 [==============================] - 20s 395us/step - loss: 1.0700 - acc: 0.6241 - val_loss: 0.9957 - val_acc: 0.6525\n",
            "Epoch 8/100\n",
            "50000/50000 [==============================] - 20s 399us/step - loss: 1.0183 - acc: 0.6433 - val_loss: 0.9439 - val_acc: 0.6657\n",
            "Epoch 9/100\n",
            "50000/50000 [==============================] - 20s 394us/step - loss: 0.9736 - acc: 0.6594 - val_loss: 0.9261 - val_acc: 0.6747\n",
            "Epoch 10/100\n",
            "50000/50000 [==============================] - 20s 396us/step - loss: 0.9363 - acc: 0.6743 - val_loss: 0.8901 - val_acc: 0.6905\n",
            "Epoch 11/100\n",
            "50000/50000 [==============================] - 20s 392us/step - loss: 0.9049 - acc: 0.6859 - val_loss: 0.8668 - val_acc: 0.6960\n",
            "Epoch 12/100\n",
            "50000/50000 [==============================] - 19s 390us/step - loss: 0.8722 - acc: 0.6953 - val_loss: 0.8401 - val_acc: 0.7090\n",
            "Epoch 13/100\n",
            "50000/50000 [==============================] - 20s 390us/step - loss: 0.8526 - acc: 0.7028 - val_loss: 0.8777 - val_acc: 0.6998\n",
            "Epoch 14/100\n",
            "50000/50000 [==============================] - 20s 397us/step - loss: 0.8300 - acc: 0.7102 - val_loss: 0.8325 - val_acc: 0.7067\n",
            "Epoch 15/100\n",
            "50000/50000 [==============================] - 20s 396us/step - loss: 0.8071 - acc: 0.7214 - val_loss: 0.7748 - val_acc: 0.7315\n",
            "Epoch 16/100\n",
            "50000/50000 [==============================] - 20s 396us/step - loss: 0.7899 - acc: 0.7275 - val_loss: 0.7726 - val_acc: 0.7319\n",
            "Epoch 17/100\n",
            "50000/50000 [==============================] - 20s 393us/step - loss: 0.7761 - acc: 0.7326 - val_loss: 0.7675 - val_acc: 0.7367\n",
            "Epoch 18/100\n",
            "50000/50000 [==============================] - 20s 392us/step - loss: 0.7636 - acc: 0.7351 - val_loss: 0.7394 - val_acc: 0.7423\n",
            "Epoch 19/100\n",
            "50000/50000 [==============================] - 19s 390us/step - loss: 0.7470 - acc: 0.7399 - val_loss: 0.7273 - val_acc: 0.7468\n",
            "Epoch 20/100\n",
            "50000/50000 [==============================] - 20s 391us/step - loss: 0.7378 - acc: 0.7468 - val_loss: 0.7501 - val_acc: 0.7398\n",
            "Epoch 21/100\n",
            "50000/50000 [==============================] - 19s 390us/step - loss: 0.7297 - acc: 0.7494 - val_loss: 0.7311 - val_acc: 0.7519\n",
            "Epoch 22/100\n",
            "50000/50000 [==============================] - 20s 391us/step - loss: 0.7164 - acc: 0.7540 - val_loss: 0.7369 - val_acc: 0.7499\n",
            "Epoch 23/100\n",
            "50000/50000 [==============================] - 20s 390us/step - loss: 0.7111 - acc: 0.7553 - val_loss: 0.7108 - val_acc: 0.7482\n",
            "Epoch 24/100\n",
            "50000/50000 [==============================] - 20s 391us/step - loss: 0.7090 - acc: 0.7561 - val_loss: 0.7205 - val_acc: 0.7526\n",
            "Epoch 25/100\n",
            "50000/50000 [==============================] - 20s 391us/step - loss: 0.6986 - acc: 0.7602 - val_loss: 0.7028 - val_acc: 0.7577\n",
            "Epoch 26/100\n",
            "50000/50000 [==============================] - 19s 389us/step - loss: 0.6966 - acc: 0.7614 - val_loss: 0.6838 - val_acc: 0.7668\n",
            "Epoch 27/100\n",
            "50000/50000 [==============================] - 20s 390us/step - loss: 0.6858 - acc: 0.7657 - val_loss: 0.6946 - val_acc: 0.7668\n",
            "Epoch 28/100\n",
            "50000/50000 [==============================] - 20s 393us/step - loss: 0.6844 - acc: 0.7633 - val_loss: 0.7302 - val_acc: 0.7580\n",
            "Epoch 29/100\n",
            "50000/50000 [==============================] - 20s 391us/step - loss: 0.6811 - acc: 0.7664 - val_loss: 0.6640 - val_acc: 0.7709\n",
            "Epoch 30/100\n",
            "50000/50000 [==============================] - 19s 389us/step - loss: 0.6727 - acc: 0.7702 - val_loss: 0.6917 - val_acc: 0.7684\n",
            "Epoch 31/100\n",
            "50000/50000 [==============================] - 20s 391us/step - loss: 0.6744 - acc: 0.7719 - val_loss: 0.6703 - val_acc: 0.7709\n",
            "Epoch 32/100\n",
            "50000/50000 [==============================] - 20s 391us/step - loss: 0.6723 - acc: 0.7723 - val_loss: 0.6810 - val_acc: 0.7653\n",
            "Epoch 33/100\n",
            "50000/50000 [==============================] - 19s 390us/step - loss: 0.6670 - acc: 0.7733 - val_loss: 0.7066 - val_acc: 0.7664\n",
            "Epoch 34/100\n",
            "50000/50000 [==============================] - 20s 392us/step - loss: 0.6620 - acc: 0.7757 - val_loss: 0.6661 - val_acc: 0.7765\n",
            "Epoch 35/100\n",
            "50000/50000 [==============================] - 20s 392us/step - loss: 0.6649 - acc: 0.7754 - val_loss: 0.6670 - val_acc: 0.7802\n",
            "Epoch 36/100\n",
            "50000/50000 [==============================] - 20s 390us/step - loss: 0.6563 - acc: 0.7767 - val_loss: 0.6696 - val_acc: 0.7702\n",
            "Epoch 37/100\n",
            "50000/50000 [==============================] - 20s 391us/step - loss: 0.6563 - acc: 0.7784 - val_loss: 0.6546 - val_acc: 0.7773\n",
            "Epoch 38/100\n",
            "50000/50000 [==============================] - 19s 389us/step - loss: 0.6549 - acc: 0.7793 - val_loss: 0.6807 - val_acc: 0.7738\n",
            "Epoch 39/100\n",
            "50000/50000 [==============================] - 20s 391us/step - loss: 0.6530 - acc: 0.7795 - val_loss: 0.7157 - val_acc: 0.7616\n",
            "Epoch 40/100\n",
            "50000/50000 [==============================] - 19s 389us/step - loss: 0.6498 - acc: 0.7795 - val_loss: 0.6460 - val_acc: 0.7820\n",
            "Epoch 41/100\n",
            "50000/50000 [==============================] - 20s 392us/step - loss: 0.6449 - acc: 0.7816 - val_loss: 0.6859 - val_acc: 0.7766\n",
            "Epoch 42/100\n",
            "50000/50000 [==============================] - 20s 391us/step - loss: 0.6475 - acc: 0.7825 - val_loss: 0.6542 - val_acc: 0.7797\n",
            "Epoch 43/100\n",
            "50000/50000 [==============================] - 20s 390us/step - loss: 0.6441 - acc: 0.7835 - val_loss: 0.6626 - val_acc: 0.7775\n",
            "Epoch 44/100\n",
            "50000/50000 [==============================] - 20s 390us/step - loss: 0.6446 - acc: 0.7839 - val_loss: 0.6571 - val_acc: 0.7788\n",
            "Epoch 45/100\n",
            "50000/50000 [==============================] - 20s 392us/step - loss: 0.6410 - acc: 0.7847 - val_loss: 0.7015 - val_acc: 0.7639\n",
            "Epoch 46/100\n",
            "50000/50000 [==============================] - 20s 392us/step - loss: 0.6403 - acc: 0.7846 - val_loss: 0.6494 - val_acc: 0.7834\n",
            "Epoch 47/100\n",
            "50000/50000 [==============================] - 20s 392us/step - loss: 0.6447 - acc: 0.7838 - val_loss: 0.6791 - val_acc: 0.7757\n",
            "Epoch 48/100\n",
            "50000/50000 [==============================] - 20s 392us/step - loss: 0.6374 - acc: 0.7848 - val_loss: 0.6817 - val_acc: 0.7813\n",
            "Epoch 49/100\n",
            "50000/50000 [==============================] - 20s 391us/step - loss: 0.6357 - acc: 0.7869 - val_loss: 0.6691 - val_acc: 0.7763\n",
            "Epoch 50/100\n",
            "50000/50000 [==============================] - 20s 391us/step - loss: 0.6409 - acc: 0.7838 - val_loss: 0.6579 - val_acc: 0.7795\n",
            "Epoch 51/100\n",
            "50000/50000 [==============================] - 20s 392us/step - loss: 0.6327 - acc: 0.7874 - val_loss: 0.7270 - val_acc: 0.7694\n",
            "Epoch 52/100\n",
            "50000/50000 [==============================] - 20s 392us/step - loss: 0.6298 - acc: 0.7880 - val_loss: 0.6572 - val_acc: 0.7890\n",
            "Epoch 53/100\n",
            "50000/50000 [==============================] - 20s 392us/step - loss: 0.6341 - acc: 0.7873 - val_loss: 0.6457 - val_acc: 0.7843\n",
            "Epoch 54/100\n",
            "50000/50000 [==============================] - 20s 392us/step - loss: 0.6315 - acc: 0.7885 - val_loss: 0.6762 - val_acc: 0.7774\n",
            "Epoch 55/100\n",
            "50000/50000 [==============================] - 20s 393us/step - loss: 0.6307 - acc: 0.7887 - val_loss: 0.6626 - val_acc: 0.7837\n",
            "Epoch 56/100\n",
            "50000/50000 [==============================] - 20s 393us/step - loss: 0.6313 - acc: 0.7887 - val_loss: 0.6615 - val_acc: 0.7867\n",
            "Epoch 57/100\n",
            "50000/50000 [==============================] - 19s 390us/step - loss: 0.6274 - acc: 0.7899 - val_loss: 0.7015 - val_acc: 0.7832\n",
            "Epoch 58/100\n",
            "50000/50000 [==============================] - 20s 393us/step - loss: 0.6295 - acc: 0.7906 - val_loss: 0.6904 - val_acc: 0.7794\n",
            "Epoch 59/100\n",
            "50000/50000 [==============================] - 20s 393us/step - loss: 0.6338 - acc: 0.7879 - val_loss: 0.7102 - val_acc: 0.7754\n",
            "Epoch 60/100\n",
            "50000/50000 [==============================] - 20s 391us/step - loss: 0.6251 - acc: 0.7921 - val_loss: 0.7053 - val_acc: 0.7687\n",
            "Epoch 61/100\n",
            "50000/50000 [==============================] - 20s 391us/step - loss: 0.6277 - acc: 0.7898 - val_loss: 0.7038 - val_acc: 0.7756\n",
            "Epoch 62/100\n",
            "50000/50000 [==============================] - 20s 390us/step - loss: 0.6257 - acc: 0.7903 - val_loss: 0.7064 - val_acc: 0.7776\n",
            "Epoch 63/100\n",
            "50000/50000 [==============================] - 20s 394us/step - loss: 0.6267 - acc: 0.7929 - val_loss: 0.6986 - val_acc: 0.7782\n",
            "Epoch 64/100\n",
            "50000/50000 [==============================] - 20s 393us/step - loss: 0.6306 - acc: 0.7908 - val_loss: 0.7132 - val_acc: 0.7783\n",
            "Epoch 65/100\n",
            "50000/50000 [==============================] - 20s 396us/step - loss: 0.6260 - acc: 0.7922 - val_loss: 0.7373 - val_acc: 0.7887\n",
            "Epoch 66/100\n",
            "50000/50000 [==============================] - 20s 395us/step - loss: 0.6299 - acc: 0.7905 - val_loss: 0.6943 - val_acc: 0.7756\n",
            "Epoch 67/100\n",
            "50000/50000 [==============================] - 20s 396us/step - loss: 0.6214 - acc: 0.7939 - val_loss: 0.6492 - val_acc: 0.7880\n",
            "Epoch 68/100\n",
            "50000/50000 [==============================] - 20s 391us/step - loss: 0.6194 - acc: 0.7942 - val_loss: 0.7451 - val_acc: 0.7713\n",
            "Epoch 69/100\n",
            "50000/50000 [==============================] - 19s 390us/step - loss: 0.6249 - acc: 0.7917 - val_loss: 0.6538 - val_acc: 0.7893\n",
            "Epoch 70/100\n",
            "50000/50000 [==============================] - 20s 391us/step - loss: 0.6300 - acc: 0.7927 - val_loss: 0.6771 - val_acc: 0.7803\n",
            "Epoch 71/100\n",
            "50000/50000 [==============================] - 20s 390us/step - loss: 0.6235 - acc: 0.7913 - val_loss: 0.7051 - val_acc: 0.7688\n",
            "Epoch 72/100\n",
            "50000/50000 [==============================] - 20s 391us/step - loss: 0.6214 - acc: 0.7958 - val_loss: 0.6886 - val_acc: 0.7872\n",
            "Epoch 73/100\n",
            "50000/50000 [==============================] - 19s 389us/step - loss: 0.6218 - acc: 0.7943 - val_loss: 0.7843 - val_acc: 0.7802\n",
            "Epoch 74/100\n",
            "50000/50000 [==============================] - 19s 387us/step - loss: 0.6175 - acc: 0.7946 - val_loss: 0.6774 - val_acc: 0.7784\n",
            "Epoch 75/100\n",
            "50000/50000 [==============================] - 19s 387us/step - loss: 0.6242 - acc: 0.7927 - val_loss: 0.6487 - val_acc: 0.7877\n",
            "Epoch 76/100\n",
            "50000/50000 [==============================] - 19s 386us/step - loss: 0.6249 - acc: 0.7925 - val_loss: 0.6800 - val_acc: 0.7791\n",
            "Epoch 77/100\n",
            "50000/50000 [==============================] - 19s 387us/step - loss: 0.6244 - acc: 0.7933 - val_loss: 0.6967 - val_acc: 0.7733\n",
            "Epoch 78/100\n",
            "50000/50000 [==============================] - 19s 386us/step - loss: 0.6240 - acc: 0.7920 - val_loss: 0.7194 - val_acc: 0.7822\n",
            "Epoch 79/100\n",
            "50000/50000 [==============================] - 19s 386us/step - loss: 0.6221 - acc: 0.7943 - val_loss: 0.6320 - val_acc: 0.7904\n",
            "Epoch 80/100\n",
            "50000/50000 [==============================] - 19s 386us/step - loss: 0.6309 - acc: 0.7922 - val_loss: 0.7093 - val_acc: 0.7707\n",
            "Epoch 81/100\n",
            "50000/50000 [==============================] - 19s 386us/step - loss: 0.6233 - acc: 0.7947 - val_loss: 0.7107 - val_acc: 0.7702\n",
            "Epoch 82/100\n",
            "50000/50000 [==============================] - 19s 389us/step - loss: 0.6284 - acc: 0.7941 - val_loss: 0.7556 - val_acc: 0.7649\n",
            "Epoch 83/100\n",
            "50000/50000 [==============================] - 19s 387us/step - loss: 0.6278 - acc: 0.7928 - val_loss: 0.6566 - val_acc: 0.7833\n",
            "Epoch 84/100\n",
            "50000/50000 [==============================] - 19s 386us/step - loss: 0.6306 - acc: 0.7923 - val_loss: 0.7210 - val_acc: 0.7639\n",
            "Epoch 85/100\n",
            "50000/50000 [==============================] - 19s 386us/step - loss: 0.6282 - acc: 0.7908 - val_loss: 0.7904 - val_acc: 0.7789\n",
            "Epoch 86/100\n",
            "50000/50000 [==============================] - 19s 386us/step - loss: 0.6302 - acc: 0.7920 - val_loss: 0.7833 - val_acc: 0.7508\n",
            "Epoch 87/100\n",
            "50000/50000 [==============================] - 19s 386us/step - loss: 0.6285 - acc: 0.7933 - val_loss: 0.7396 - val_acc: 0.7637\n",
            "Epoch 88/100\n",
            "50000/50000 [==============================] - 19s 387us/step - loss: 0.6322 - acc: 0.7926 - val_loss: 0.7253 - val_acc: 0.7748\n",
            "Epoch 89/100\n",
            "50000/50000 [==============================] - 19s 386us/step - loss: 0.6264 - acc: 0.7944 - val_loss: 0.6924 - val_acc: 0.7788\n",
            "Epoch 90/100\n",
            "50000/50000 [==============================] - 19s 387us/step - loss: 0.6295 - acc: 0.7922 - val_loss: 0.7544 - val_acc: 0.7736\n",
            "Epoch 91/100\n",
            "50000/50000 [==============================] - 19s 386us/step - loss: 0.6288 - acc: 0.7915 - val_loss: 0.7576 - val_acc: 0.7685\n",
            "Epoch 92/100\n",
            "50000/50000 [==============================] - 19s 387us/step - loss: 0.6352 - acc: 0.7935 - val_loss: 0.7200 - val_acc: 0.7704\n",
            "Epoch 93/100\n",
            "50000/50000 [==============================] - 19s 386us/step - loss: 0.6341 - acc: 0.7911 - val_loss: 0.6729 - val_acc: 0.7838\n",
            "Epoch 94/100\n",
            "50000/50000 [==============================] - 19s 386us/step - loss: 0.6338 - acc: 0.7909 - val_loss: 0.6868 - val_acc: 0.7751\n",
            "Epoch 95/100\n",
            "50000/50000 [==============================] - 19s 386us/step - loss: 0.6390 - acc: 0.7925 - val_loss: 0.6594 - val_acc: 0.7845\n",
            "Epoch 96/100\n",
            "50000/50000 [==============================] - 19s 386us/step - loss: 0.6343 - acc: 0.7898 - val_loss: 0.8012 - val_acc: 0.7680\n",
            "Epoch 97/100\n",
            "50000/50000 [==============================] - 19s 387us/step - loss: 0.6378 - acc: 0.7917 - val_loss: 0.8020 - val_acc: 0.7443\n",
            "Epoch 98/100\n",
            "50000/50000 [==============================] - 19s 385us/step - loss: 0.6424 - acc: 0.7898 - val_loss: 0.7108 - val_acc: 0.7678\n",
            "Epoch 99/100\n",
            "50000/50000 [==============================] - 19s 386us/step - loss: 0.6395 - acc: 0.7918 - val_loss: 0.6703 - val_acc: 0.7830\n",
            "Epoch 100/100\n",
            "50000/50000 [==============================] - 19s 386us/step - loss: 0.6455 - acc: 0.7892 - val_loss: 0.7187 - val_acc: 0.7677\n"
          ],
          "name": "stdout"
        }
      ]
    },
    {
      "metadata": {
        "id": "CGhSMO_wWmQ_",
        "colab_type": "code",
        "outputId": "87b6f2d9-a820-495e-b225-ee384581ac3e",
        "colab": {
          "base_uri": "https://localhost:8080/",
          "height": 34
        }
      },
      "cell_type": "code",
      "source": [
        "# Save model and weights\n",
        "if not os.path.isdir(save_dir):\n",
        "    os.makedirs(save_dir)\n",
        "model_path = os.path.join(save_dir, model_name)\n",
        "model.save(model_path)\n",
        "print('Saved trained model at %s ' % model_path)\n"
      ],
      "execution_count": 0,
      "outputs": [
        {
          "output_type": "stream",
          "text": [
            "Saved trained model at /content/saved_models/keras_cifar10_trained_model.h5 \n"
          ],
          "name": "stdout"
        }
      ]
    },
    {
      "metadata": {
        "id": "dzG-r_0sTgdt",
        "colab_type": "code",
        "outputId": "bd56ceb7-b11e-4c52-dd22-f17283e600bc",
        "colab": {
          "base_uri": "https://localhost:8080/",
          "height": 68
        }
      },
      "cell_type": "code",
      "source": [
        "# Score trained model.\n",
        "scores = model.evaluate(x_test, y_test, verbose=1)\n",
        "print('Test loss:', scores[0])\n",
        "print('Test accuracy:', scores[1])"
      ],
      "execution_count": 0,
      "outputs": [
        {
          "output_type": "stream",
          "text": [
            "10000/10000 [==============================] - 2s 188us/step\n",
            "Test loss: 0.6962513687610626\n",
            "Test accuracy: 0.7657\n"
          ],
          "name": "stdout"
        }
      ]
    }
  ]
}