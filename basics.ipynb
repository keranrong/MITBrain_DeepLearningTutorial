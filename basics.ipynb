{
  "nbformat": 4,
  "nbformat_minor": 0,
  "metadata": {
    "colab": {
      "name": "basics.ipynb",
      "version": "0.3.2",
      "provenance": [],
      "toc_visible": true,
      "include_colab_link": true
    },
    "kernelspec": {
      "name": "python3",
      "display_name": "Python 3"
    },
    "accelerator": "GPU"
  },
  "cells": [
    {
      "cell_type": "markdown",
      "metadata": {
        "id": "view-in-github",
        "colab_type": "text"
      },
      "source": [
        "<a href=\"https://colab.research.google.com/github/keranrong/MITBrain_DeepLearningTutorial/blob/master/basics.ipynb\" target=\"_parent\"><img src=\"https://colab.research.google.com/assets/colab-badge.svg\" alt=\"Open In Colab\"/></a>"
      ]
    },
    {
      "metadata": {
        "id": "hpMoHIL9buxC",
        "colab_type": "text"
      },
      "cell_type": "markdown",
      "source": [
        "## Getting Started\n",
        "\n",
        "**Authors:** Yen-Ling Kuo and Eugenio Piasini for the [Brains, Minds and Machines summer course 2018](http://cbmm.mit.edu/summer-school/2018).\n",
        "\n",
        "\n"
      ]
    },
    {
      "metadata": {
        "id": "Yan0U4btlY0T",
        "colab_type": "text"
      },
      "cell_type": "markdown",
      "source": [
        "This is the hands-on deep learning tutorial series for Brains, Minds, and Machines summer course. The tutorial will guide you to implement a multi-layer perceptron using numpy and get familiar with the basic construct of PyTorch. If you are familiar with these topics, feel free to jump to the exercise section at the end or go to other modules.\n",
        "\n",
        "*  [Convolution Neural Network](https://colab.research.google.com/drive/1_QVMpGNXRzjU-n0beoHmmoxjGig8v94C)\n",
        "*  [Transfer Learning](https://colab.research.google.com/drive/15exgMLrj7azSMQeKXBYwuHZAdJdCQloh)\n",
        "*  [Recurrent Neural Network](https://colab.research.google.com/drive/1jR_DGoVDcxZ104onxTk2C7YeV7vTt1DV)"
      ]
    },
    {
      "metadata": {
        "id": "5U8QQzBMbNyW",
        "colab_type": "text"
      },
      "cell_type": "markdown",
      "source": [
        "## Implementing a Multi-layer Perceptron"
      ]
    },
    {
      "metadata": {
        "id": "2vgQcVI_TFCm",
        "colab_type": "text"
      },
      "cell_type": "markdown",
      "source": [
        "### XOr Problem\n",
        "\n",
        "The XOr (exclusive or) problem is a classical probem in artificial neural network research. It uses a neural network to predict the output of a XOr logic gate given two binary inputs.\n",
        "\n",
        "Here, we relax the XOr problem a bit. Instead of binary inputs, we give inputs in real values. When the two input values have the same sign, the network should output 1; otherwise, the network should output 0.\n",
        "\n",
        "This is how the training data looks like in a 2D plot. The red dot means the output label is 0, the blue dot means the output label is 1."
      ]
    },
    {
      "metadata": {
        "id": "QdWhnDtxaWmf",
        "colab_type": "code",
        "outputId": "45213be9-8671-49b9-938c-b92b122d63e1",
        "colab": {
          "base_uri": "https://localhost:8080/",
          "height": 282
        }
      },
      "cell_type": "code",
      "source": [
        "import numpy as np\n",
        "\n",
        "%matplotlib inline\n",
        "import matplotlib.pyplot as plt\n",
        "\n",
        "# input of the MLP\n",
        "X = np.array([[1,1], [1,-1], [-1,-1], [-1,1]])\n",
        "# output of the MLP\n",
        "y = np.array([[0], [1], [0], [1]])\n",
        "\n",
        "# plot the training data\n",
        "fig, ax = plt.subplots()\n",
        "for i in range(y.shape[0]):\n",
        "  if y[i][0] == 0:\n",
        "    marker = 'ro'\n",
        "  else:\n",
        "    marker = 'bo'\n",
        "  ax.plot(X[i][0], X[i][1], marker)\n",
        "ax.axhline(y=0, color='k')\n",
        "ax.axvline(x=0, color='k')"
      ],
      "execution_count": 0,
      "outputs": [
        {
          "output_type": "execute_result",
          "data": {
            "text/plain": [
              "<matplotlib.lines.Line2D at 0x7f6d360e8588>"
            ]
          },
          "metadata": {
            "tags": []
          },
          "execution_count": 1
        },
        {
          "output_type": "display_data",
          "data": {
            "image/png": "[encoded data removed]",
            "text/plain": [
              "<matplotlib.figure.Figure at 0x7f6d389b1fd0>"
            ]
          },
          "metadata": {
            "tags": []
          }
        }
      ]
    },
    {
      "metadata": {
        "id": "f-ZLpixBrNsT",
        "colab_type": "text"
      },
      "cell_type": "markdown",
      "source": [
        "Clearly, these data points are not linearly separable. We can not find one single line to classify the points correctly.\n",
        "\n",
        "In this part, we will build a multi-layer perceptron with nonlinearity to make predictions."
      ]
    },
    {
      "metadata": {
        "id": "E7KhqYuNsO81",
        "colab_type": "text"
      },
      "cell_type": "markdown",
      "source": [
        "### Implementing Activation Functions\n",
        "\n",
        "There are several activation functions to choose from, including sigmoid, tanh, relu, etc. Here, we implemented the sigmoid function as an example. In order to do backpropagation, we need to implement its derivative as well."
      ]
    },
    {
      "metadata": {
        "id": "KU2KeWZqwU7I",
        "colab_type": "code",
        "colab": {}
      },
      "cell_type": "code",
      "source": [
        "# Sigmoid Function\n",
        "def sigmoid(x):\n",
        "    return 1 / (1 + np.exp(-x))\n",
        "\n",
        "# Derivative of Sigmoid Function\n",
        "def derivative_sigmoid(x):\n",
        "    return x * (1 - x)"
      ],
      "execution_count": 0,
      "outputs": []
    },
    {
      "metadata": {
        "id": "u_b3BojzuPdq",
        "colab_type": "text"
      },
      "cell_type": "markdown",
      "source": [
        "### A Simple MLP Architecture\n",
        "\n",
        "We design a simple MLP to solve this problem. The MLP consists of a hidden layer and an output layer to map the hidden vector to the output values. \n",
        "\n",
        "First, we initialize the weight and bias of each layer as well as the training epoch and learning rate. "
      ]
    },
    {
      "metadata": {
        "id": "cQkt7V2pwYW-",
        "colab_type": "code",
        "colab": {}
      },
      "cell_type": "code",
      "source": [
        "epoch = 5000 # number of training iterations\n",
        "learning_rate = 0.1\n",
        "\n",
        "# dimension of each layer\n",
        "d_in = X.shape[1] # number of features in the input dataset\n",
        "d_h = 3   # hidden layer\n",
        "d_out = 1 # output layer\n",
        "\n",
        "# weight and bias initialization\n",
        "wh = np.random.uniform(size=(d_in, d_h))\n",
        "bh = np.random.uniform(size=(1, d_h))\n",
        "wout = np.random.uniform(size=(d_h, d_out))\n",
        "bout = np.random.uniform(size=(1, d_out))"
      ],
      "execution_count": 0,
      "outputs": []
    },
    {
      "metadata": {
        "id": "dZ44Oe5hkjda",
        "colab_type": "text"
      },
      "cell_type": "markdown",
      "source": [
        "For each training iteration, we run one forward pass to get the predicted value and compute the loss between the prediction and the real value. For simplicity, we use the differences between the two values as the loss function. Then, we can compute the gradients and finally update the weights and biases."
      ]
    },
    {
      "metadata": {
        "id": "J7yugsy3wgU5",
        "colab_type": "code",
        "outputId": "93e22efa-da27-4a0b-8474-16aebc46f93d",
        "colab": {
          "base_uri": "https://localhost:8080/",
          "height": 272
        }
      },
      "cell_type": "code",
      "source": [
        "for i in range(epoch):\n",
        "    # Forward pass\n",
        "    h = sigmoid(X.dot(wh) + bh)\n",
        "    y_pred = sigmoid(h.dot(wout) + bout)\n",
        "    \n",
        "    # Compute and print loss\n",
        "    loss = (y_pred - y).sum()\n",
        "    if i % 500 == 0:\n",
        "        print('Epoch', i, ':', loss)\n",
        "\n",
        "    # Backpropagation to compute gradients\n",
        "    grad_y_pred = (y - y_pred) * derivative_sigmoid(y_pred)\n",
        "    grad_wout = h.T.dot(grad_y_pred)\n",
        "    grad_bout = np.sum(grad_y_pred, axis=0, keepdims=True)\n",
        "    grad_h = grad_y_pred.dot(wout.T) * derivative_sigmoid(h)\n",
        "    grad_wh = X.T.dot(grad_h)\n",
        "    grad_bh = np.sum(grad_h, axis=0, keepdims=True)\n",
        "\n",
        "    # Update weights and biases\n",
        "    wout += grad_wout * learning_rate\n",
        "    bout += grad_bout * learning_rate\n",
        "    wh += grad_wh * learning_rate\n",
        "    bh += grad_bh * learning_rate\n",
        "    \n",
        "print('Prediction of training data:')\n",
        "print(y_pred)"
      ],
      "execution_count": 0,
      "outputs": [
        {
          "output_type": "stream",
          "text": [
            "Epoch 0 : 1.0434065765915648\n",
            "Epoch 500 : 0.005132341091276804\n",
            "Epoch 1000 : 0.007237810333915795\n",
            "Epoch 1500 : 0.018516013578097512\n",
            "Epoch 2000 : 0.05017020251491022\n",
            "Epoch 2500 : 0.02252450245470422\n",
            "Epoch 3000 : 0.024550407887971692\n",
            "Epoch 3500 : 0.01985056306238825\n",
            "Epoch 4000 : 0.016307926030648998\n",
            "Epoch 4500 : 0.013871609465979373\n",
            "Prediction of training data:\n",
            "[[0.07657822]\n",
            " [0.92465901]\n",
            " [0.08418696]\n",
            " [0.92670571]]\n"
          ],
          "name": "stdout"
        }
      ]
    },
    {
      "metadata": {
        "id": "D75MnhxpmLg-",
        "colab_type": "text"
      },
      "cell_type": "markdown",
      "source": [
        "The predicted values are very close to the labels in the training data. Since they are real values, to get the binary output, we can simply threshold the output to decide which label we want to assign."
      ]
    },
    {
      "metadata": {
        "id": "PSTz3Y8vo5zb",
        "colab_type": "text"
      },
      "cell_type": "markdown",
      "source": [
        "Although it is possible to implement any kind of layers and optmization methods with numpy, there are several machine learning libraries available. So, it is easier to build neural networks of different architectures.\n",
        "\n",
        "TensorFlow, PyTorch, Keras, MxNet, Caffe, Theano are all popular deep learning framework. We will focus on PyTorch in the following tutorials.\n"
      ]
    },
    {
      "metadata": {
        "id": "8-_pfRvycFiH",
        "colab_type": "text"
      },
      "cell_type": "markdown",
      "source": [
        "## Introducing PyTorch\n",
        "\n",
        "PyTorch is an open source library for numerical computation using  computation graphs. Nodes in the graph represent mathematical operations, while the graph edges represent the multidimensional data arrays (tensors) communicated between them. \n",
        "\n",
        "\n",
        "Similar to python programming, we can add and execute a node to the computation graph immediately. This property makes it easy to debug the code and inspect the values in the network.\n",
        "\n"
      ]
    },
    {
      "metadata": {
        "id": "Yuz0npgvorCH",
        "colab_type": "code",
        "outputId": "baaf68da-0986-4522-b185-a8331518f7e7",
        "colab": {
          "base_uri": "https://localhost:8080/",
          "height": 34
        }
      },
      "cell_type": "code",
      "source": [
        "!pip3 install torch"
      ],
      "execution_count": 0,
      "outputs": [
        {
          "output_type": "stream",
          "text": [
            "Requirement already satisfied: torch in /usr/local/lib/python3.6/dist-packages (0.4.1)\r\n"
          ],
          "name": "stdout"
        }
      ]
    },
    {
      "metadata": {
        "id": "yLD-V2P7vsol",
        "colab_type": "text"
      },
      "cell_type": "markdown",
      "source": [
        "PyTorch provides several useful modules.\n",
        "\n",
        "*  [ ```torch.nn```](https://pytorch.org/docs/stable/nn.html): This module provides the building blocks to create the networks, including the implementation of the various layers. \n",
        "*  [```torch.optim```](https://pytorch.org/docs/stable/optim.html): This module provides various optimization algorithms. Most commonly used methods are already supported.\n",
        "\n"
      ]
    },
    {
      "metadata": {
        "id": "sxXmnREVnxYw",
        "colab_type": "code",
        "colab": {}
      },
      "cell_type": "code",
      "source": [
        "import torch\n",
        "import torch.nn as nn"
      ],
      "execution_count": 0,
      "outputs": []
    },
    {
      "metadata": {
        "id": "n5V07-rzkKZc",
        "colab_type": "text"
      },
      "cell_type": "markdown",
      "source": [
        "### Tensors\n",
        "\n",
        "Tensors are the leaf variables in the computation graph. By default, a tensor is initialized randomly. \n",
        "\n",
        "You can perform the operations defined in [```torch.Tensor```](https://pytorch.org/docs/stable/tensors.html) on the tensors."
      ]
    },
    {
      "metadata": {
        "id": "ksDjUZ9V7AC3",
        "colab_type": "code",
        "outputId": "b8b86b8c-37e1-4c68-95f3-7a51c492a4c1",
        "colab": {
          "base_uri": "https://localhost:8080/",
          "height": 357
        }
      },
      "cell_type": "code",
      "source": [
        "A = torch.Tensor(5, 3)\n",
        "B = torch.rand(5, 3)\n",
        "\n",
        "print(A)\n",
        "print(B)\n",
        "print(A + B)\n",
        "print(torch.add(A, B))"
      ],
      "execution_count": 0,
      "outputs": [
        {
          "output_type": "stream",
          "text": [
            "tensor([[4.9291e-36, 0.0000e+00, 3.7835e-44],\n",
            "        [0.0000e+00,        nan, 0.0000e+00],\n",
            "        [1.3733e-14, 6.4069e+02, 4.3066e+21],\n",
            "        [1.1824e+22, 4.3066e+21, 6.3828e+28],\n",
            "        [3.8016e-39, 8.3383e-10, 0.0000e+00]])\n",
            "tensor([[0.9762, 0.6550, 0.8054],\n",
            "        [0.3523, 0.0591, 0.1281],\n",
            "        [0.8579, 0.9648, 0.2046],\n",
            "        [0.5063, 0.7308, 0.1397],\n",
            "        [0.0565, 0.2522, 0.5584]])\n",
            "tensor([[9.7622e-01, 6.5504e-01, 8.0541e-01],\n",
            "        [3.5234e-01,        nan, 1.2808e-01],\n",
            "        [8.5788e-01, 6.4165e+02, 4.3066e+21],\n",
            "        [1.1824e+22, 4.3066e+21, 6.3828e+28],\n",
            "        [5.6543e-02, 2.5221e-01, 5.5841e-01]])\n",
            "tensor([[9.7622e-01, 6.5504e-01, 8.0541e-01],\n",
            "        [3.5234e-01,        nan, 1.2808e-01],\n",
            "        [8.5788e-01, 6.4165e+02, 4.3066e+21],\n",
            "        [1.1824e+22, 4.3066e+21, 6.3828e+28],\n",
            "        [5.6543e-02, 2.5221e-01, 5.5841e-01]])\n"
          ],
          "name": "stdout"
        }
      ]
    },
    {
      "metadata": {
        "id": "psFIDzYG9N3N",
        "colab_type": "text"
      },
      "cell_type": "markdown",
      "source": [
        "### Numpy Bridge\n",
        "\n",
        "You can convert a tensor to a numpy array easily and vice versa. The torch Tensor and numpy array will share their underlying memory locations, and changing one will change the value of the other."
      ]
    },
    {
      "metadata": {
        "id": "SaTw_NLC8j43",
        "colab_type": "code",
        "outputId": "b0894e05-bed3-48d9-ac07-b2c12f1711aa",
        "colab": {
          "base_uri": "https://localhost:8080/",
          "height": 68
        }
      },
      "cell_type": "code",
      "source": [
        "# convert pytorch tensor to numpy\n",
        "a = torch.ones(5)\n",
        "print(a.numpy())\n",
        "a.numpy()[1] = 2\n",
        "print(a)\n",
        "\n",
        "# convert numpy to pytorch tensor\n",
        "b = np.ones(5)\n",
        "print(torch.from_numpy(b))"
      ],
      "execution_count": 0,
      "outputs": [
        {
          "output_type": "stream",
          "text": [
            "[1. 1. 1. 1. 1.]\n",
            "tensor([1., 2., 1., 1., 1.])\n",
            "tensor([1., 1., 1., 1., 1.], dtype=torch.float64)\n"
          ],
          "name": "stdout"
        }
      ]
    },
    {
      "metadata": {
        "id": "ZdGO2GO5iBtd",
        "colab_type": "text"
      },
      "cell_type": "markdown",
      "source": [
        "### Computing Gradient with Autograd\n",
        "\n",
        "PyTorch uses a technique called automatic differentiation. That is, we have a recorder that records what operations we have performed, and then it replays it backward to compute our gradients. This technique is especially powerful when building neural networks, as we save time on one epoch by calculating differentiation of the parameters at the forward pass itself.\n",
        "\n",
        "Once you finish your computation in the forward pass, you can call ```.backward()``` and have all the gradients computed automatically. You can access the gradient w.r.t. this tensor in ```.grad```."
      ]
    },
    {
      "metadata": {
        "id": "EEMqVESN7ZGc",
        "colab_type": "code",
        "outputId": "cce51971-8ea9-498c-e09e-5b2ead31f664",
        "colab": {
          "base_uri": "https://localhost:8080/",
          "height": 68
        }
      },
      "cell_type": "code",
      "source": [
        "x = torch.randn(3, requires_grad=True)\n",
        "print(x)\n",
        "y = x * 2\n",
        "print(y)\n",
        "out = y.mean()\n",
        "\n",
        "# compute gradients\n",
        "out.backward()\n",
        "# print gradients d(out)/dx\n",
        "print(x.grad.data)"
      ],
      "execution_count": 0,
      "outputs": [
        {
          "output_type": "stream",
          "text": [
            "tensor([-0.4563, -0.8237, -0.5198], requires_grad=True)\n",
            "tensor([-0.9126, -1.6473, -1.0397], grad_fn=<MulBackward>)\n",
            "tensor([0.6667, 0.6667, 0.6667])\n"
          ],
          "name": "stdout"
        }
      ]
    },
    {
      "metadata": {
        "id": "bWptF0Jvsyy7",
        "colab_type": "text"
      },
      "cell_type": "markdown",
      "source": [
        "### Using GPU\n",
        "\n",
        "To train on the GPU, we need to move all tensors and layers to the GPU first. You can do this by calling ```.cuda()``` or create a tensor with a device location. If you have multiple GPUs, you can select which GPU you want to use by setting ```cuda:n``` where n is the device id of the GPU. "
      ]
    },
    {
      "metadata": {
        "id": "L83hXMOJ7Zqn",
        "colab_type": "code",
        "outputId": "b6da40b4-d076-4a94-f4d5-0a15dae77cf2",
        "colab": {
          "base_uri": "https://localhost:8080/",
          "height": 119
        }
      },
      "cell_type": "code",
      "source": [
        "# move tensor to GPU\n",
        "if torch.cuda.is_available():\n",
        "    a = a.cuda()\n",
        "    print(a)\n",
        "    x = torch.randn(2, 3, device=torch.device(\"cuda:0\"))\n",
        "    print(x)\n",
        "\n",
        "# move back to CPU\n",
        "a = a.cpu()\n",
        "print(a)\n",
        "x = torch.randn(2, 3, device=torch.device(\"cpu\"))\n",
        "print(x)"
      ],
      "execution_count": 0,
      "outputs": [
        {
          "output_type": "stream",
          "text": [
            "tensor([1., 2., 1., 1., 1.], device='cuda:0')\n",
            "tensor([[ 0.7474, -0.4061,  1.5934],\n",
            "        [ 1.6632,  0.0018,  0.7008]], device='cuda:0')\n",
            "tensor([1., 2., 1., 1., 1.])\n",
            "tensor([[-0.0331,  1.8443,  0.7673],\n",
            "        [-2.3190,  1.1860, -0.2020]])\n"
          ],
          "name": "stdout"
        }
      ]
    },
    {
      "metadata": {
        "id": "mdBN-XDAiUaH",
        "colab_type": "text"
      },
      "cell_type": "markdown",
      "source": [
        "### Building Model: Linear Regression"
      ]
    },
    {
      "metadata": {
        "id": "Dst3kvAa4mzi",
        "colab_type": "text"
      },
      "cell_type": "markdown",
      "source": [
        "Now, we know how to do the basic computation using PyTorch. Let's start to build a simple linear regression model.\n",
        "\n",
        "First, we generate 100 x, y data points for training. The data points follow this formula: y = 3.0 * x + 1.0\n",
        "\n",
        "The goal is to regress W and b that fits the training data."
      ]
    },
    {
      "metadata": {
        "id": "WVmEBRDtnL_n",
        "colab_type": "code",
        "outputId": "d2361dd6-b3da-4000-f114-ebb909616670",
        "colab": {
          "base_uri": "https://localhost:8080/",
          "height": 282
        }
      },
      "cell_type": "code",
      "source": [
        "x_train = np.random.rand(100).astype(np.float32).reshape(-1,1)\n",
        "y_correct = 3.0 * x_train + 1.0\n",
        "\n",
        "plt.plot(x_train, y_correct)"
      ],
      "execution_count": 0,
      "outputs": [
        {
          "output_type": "execute_result",
          "data": {
            "text/plain": [
              "[<matplotlib.lines.Line2D at 0x7f6cc76e8320>]"
            ]
          },
          "metadata": {
            "tags": []
          },
          "execution_count": 11
        },
        {
          "output_type": "display_data",
          "data": {
            "image/png": "[encoded data removed]",
            "text/plain": [
              "<matplotlib.figure.Figure at 0x7f6d02966c50>"
            ]
          },
          "metadata": {
            "tags": []
          }
        }
      ]
    },
    {
      "metadata": {
        "id": "v7sLgrdF55GE",
        "colab_type": "text"
      },
      "cell_type": "markdown",
      "source": [
        "A model in PyTorch is a subclass of ```nn.Module```. There are several predefined layers and containers in the [ ```torch.nn```](https://pytorch.org/docs/stable/nn.html) module. We can use those to build more complex network structures.\n",
        "\n",
        "You can check out the layers we talked about in the lecture here:\n",
        "\n",
        "*   [```nn.Linear```](https://pytorch.org/docs/stable/nn.html#torch.nn.Linear): fully connected layer\n",
        "*   [```nn.Conv2d```](https://pytorch.org/docs/stable/nn.html#torch.nn.Conv2d): convolution layer\n",
        "* [```nn.MaxPool2d```](https://pytorch.org/docs/stable/nn.html#torch.nn.MaxPool2d): pooling\n",
        "* [```nn.LSTM```](https://pytorch.org/docs/stable/nn.html#torch.nn.LSTM): LSTM unit\n",
        "\n",
        "More complex neural networks are easily built using the predefined layers with the container classes ```Sequential``` and ```Concat```. \n",
        "\n",
        "The main method to implement in the ```nn.Module``` is ```forward```. It computes the output of the model given the input Tensor. The computation we put here defines the network architecture and how data flows between layers."
      ]
    },
    {
      "metadata": {
        "id": "UDCf-Bsbs1G9",
        "colab_type": "text"
      },
      "cell_type": "markdown",
      "source": [
        "A linear regression model is basically a single linear layer!\n",
        "\n",
        "We first define the layers we needed in ```__init__``` and then build the computation in ```forward```."
      ]
    },
    {
      "metadata": {
        "id": "nhTUIFa1mBOv",
        "colab_type": "code",
        "colab": {}
      },
      "cell_type": "code",
      "source": [
        "class LinearRegressionModel(nn.Module):\n",
        "\n",
        "    def __init__(self, input_dim, output_dim):\n",
        "\n",
        "        super(LinearRegressionModel, self).__init__() \n",
        "        self.linear = nn.Linear(input_dim, output_dim)\n",
        "\n",
        "    def forward(self, x):\n",
        "        out = self.linear(x)\n",
        "        return out"
      ],
      "execution_count": 0,
      "outputs": []
    },
    {
      "metadata": {
        "id": "qDcS92LctVbu",
        "colab_type": "text"
      },
      "cell_type": "markdown",
      "source": [
        "We then instantiate the model for training. We will use the mean squared error ([`nn.MSELoss`](https://pytorch.org/docs/stable/nn.html#torch.nn.MSELoss)) as loss function and optimize the network with stochastic gradient descent ([`torch.optim.SGD`](https://pytorch.org/docs/stable/optim.html#torch.optim.SGD)).\n",
        "\n",
        "We need to specify the parameters we want to optimize in the first argument of the selected optimizer. Usually, that should be all parameters in the model."
      ]
    },
    {
      "metadata": {
        "id": "G_DRNqNWmJmw",
        "colab_type": "code",
        "colab": {}
      },
      "cell_type": "code",
      "source": [
        "model = LinearRegressionModel(1, 1)\n",
        "\n",
        "criterion = nn.MSELoss()\n",
        "learing_rate = 0.01\n",
        "optimizer = torch.optim.SGD(model.parameters(), lr=learing_rate)\n",
        "\n",
        "epochs = 2000"
      ],
      "execution_count": 0,
      "outputs": []
    },
    {
      "metadata": {
        "id": "6ApWdrpsuqkD",
        "colab_type": "text"
      },
      "cell_type": "markdown",
      "source": [
        "Similar to what we did in the numpy example, at each training iteration, we perform one forward pass, get the loss, compute the gradients (using ```.backward()```), and update the parameters by taking a ```.step()``` with the optimizer.\n",
        "\n",
        "**Note** that we need to clear the gradients that are accumulated from previous training iterations first so we don't optimize against the old gradients stored in the variables. We can easily do it by calling ```optimizer.zero_grad()``` at the beginning of each iteration. "
      ]
    },
    {
      "metadata": {
        "id": "iWJJUZnjmVjs",
        "colab_type": "code",
        "outputId": "78bc7030-3a40-4c43-bb43-368713e365d5",
        "colab": {
          "base_uri": "https://localhost:8080/",
          "height": 357
        }
      },
      "cell_type": "code",
      "source": [
        "for epoch in range(epochs):\n",
        "    inputs = torch.from_numpy(x_train)\n",
        "    labels = torch.from_numpy(y_correct)\n",
        "\n",
        "    optimizer.zero_grad()\n",
        "    outputs = model.forward(inputs)\n",
        "    loss = criterion(outputs, labels)\n",
        "    loss.backward()\n",
        "    optimizer.step()\n",
        "    if epoch % 100 == 0:\n",
        "        print('epoch {}, loss {}'.format(epoch, loss.item()))"
      ],
      "execution_count": 0,
      "outputs": [
        {
          "output_type": "stream",
          "text": [
            "epoch 0, loss 7.82508659362793\n",
            "epoch 100, loss 0.23652684688568115\n",
            "epoch 200, loss 0.1393134593963623\n",
            "epoch 300, loss 0.10546277463436127\n",
            "epoch 400, loss 0.08004981279373169\n",
            "epoch 500, loss 0.060762207955121994\n",
            "epoch 600, loss 0.04612170159816742\n",
            "epoch 700, loss 0.03500886261463165\n",
            "epoch 800, loss 0.026573505252599716\n",
            "epoch 900, loss 0.02017076313495636\n",
            "epoch 1000, loss 0.015310725197196007\n",
            "epoch 1100, loss 0.011621679179370403\n",
            "epoch 1200, loss 0.00882150512188673\n",
            "epoch 1300, loss 0.006696018390357494\n",
            "epoch 1400, loss 0.005082668736577034\n",
            "epoch 1500, loss 0.003858013777062297\n",
            "epoch 1600, loss 0.0029284381307661533\n",
            "epoch 1700, loss 0.0022228388115763664\n",
            "epoch 1800, loss 0.0016872496344149113\n",
            "epoch 1900, loss 0.0012807432794943452\n"
          ],
          "name": "stdout"
        }
      ]
    },
    {
      "metadata": {
        "id": "rkv5XxhTxf8Y",
        "colab_type": "text"
      },
      "cell_type": "markdown",
      "source": [
        "After the model is trained, we can apply the ```forward``` method to get the prediction of any data point.\n",
        "\n",
        "We can also visualize it to see what the predictions look like!"
      ]
    },
    {
      "metadata": {
        "id": "dVv7qRWcmtLD",
        "colab_type": "code",
        "outputId": "84ba3cb6-bb36-444b-a02d-e02db2524a53",
        "colab": {
          "base_uri": "https://localhost:8080/",
          "height": 282
        }
      },
      "cell_type": "code",
      "source": [
        "predicted = model.forward(torch.from_numpy(x_train)).data.numpy()\n",
        "\n",
        "plt.plot(x_train, y_correct, 'go', label='from data', alpha=0.5)\n",
        "plt.plot(x_train, predicted, label='prediction', alpha=0.5)\n",
        "plt.legend()"
      ],
      "execution_count": 0,
      "outputs": [
        {
          "output_type": "execute_result",
          "data": {
            "text/plain": [
              "<matplotlib.legend.Legend at 0x7f6cc6c5da58>"
            ]
          },
          "metadata": {
            "tags": []
          },
          "execution_count": 15
        },
        {
          "output_type": "display_data",
          "data": {
            "image/png": "[encoded data removed]",
            "text/plain": [
              "<matplotlib.figure.Figure at 0x7f6cc6c346a0>"
            ]
          },
          "metadata": {
            "tags": []
          }
        }
      ]
    },
    {
      "metadata": {
        "id": "TOvsDfZ3yCcC",
        "colab_type": "text"
      },
      "cell_type": "markdown",
      "source": [
        "In case anything goes wrong and you want to check the learned parameters of your model, you can inspect the `weight` and `bias` of a layer as follows. "
      ]
    },
    {
      "metadata": {
        "id": "7U1l_qu1UB_C",
        "colab_type": "code",
        "outputId": "a5c3d2a3-a4db-46a2-db32-f866ab297c7e",
        "colab": {
          "base_uri": "https://localhost:8080/",
          "height": 85
        }
      },
      "cell_type": "code",
      "source": [
        "print(model.linear.weight)\n",
        "print(model.linear.bias)"
      ],
      "execution_count": 0,
      "outputs": [
        {
          "output_type": "stream",
          "text": [
            "Parameter containing:\n",
            "tensor([[2.8933]], requires_grad=True)\n",
            "Parameter containing:\n",
            "tensor([1.0523], requires_grad=True)\n"
          ],
          "name": "stdout"
        }
      ]
    },
    {
      "metadata": {
        "id": "OZItfQbKkaOO",
        "colab_type": "text"
      },
      "cell_type": "markdown",
      "source": [
        "### Exercise: Revisit the XOr Example"
      ]
    },
    {
      "metadata": {
        "id": "lr3Rc0blycby",
        "colab_type": "text"
      },
      "cell_type": "markdown",
      "source": [
        "We just went through basic operations of PyTorch and learned how to build a simple model with it. Let's try to apply what we just learned to build the XOr classifier we talked about at the beginning of the tutorial.\n",
        "\n",
        "This time, I give your more data points ranging between -10 and 10 for trainig."
      ]
    },
    {
      "metadata": {
        "id": "D3OvIBzZzXKJ",
        "colab_type": "code",
        "colab": {}
      },
      "cell_type": "code",
      "source": [
        "import random\n",
        "random.seed(1)\n",
        "\n",
        "x_train = []\n",
        "y_correct = []\n",
        "for i in range(100):\n",
        "    x0 = random.randint(-10, 10)\n",
        "    x1 = random.randint(-10, 10)\n",
        "    label = 0 if x0 * x1 > 0 else 1\n",
        "    x_train.append([x0, x1])\n",
        "    y_correct.append(label)\n",
        "x_train = np.asarray(x_train)\n",
        "y_correct = np.asarray(y_correct)"
      ],
      "execution_count": 0,
      "outputs": []
    },
    {
      "metadata": {
        "id": "EWeHO8mgzHuV",
        "colab_type": "text"
      },
      "cell_type": "markdown",
      "source": [
        "Now is your job to implement the structure of the classifier. You can use the architecture in our first example, which consists a hidden and an output linear layer.\n",
        "\n",
        "To apply sigmoid function, you can use [`torch.sigmoid`](https://pytorch.org/docs/stable/torch.html#torch.sigmoid)."
      ]
    },
    {
      "metadata": {
        "id": "GEpZGXiCz9O3",
        "colab_type": "code",
        "colab": {}
      },
      "cell_type": "code",
      "source": [
        "class XorClassifier(nn.Module):\n",
        "\n",
        "    def __init__(self, input_dim, output_dim):\n",
        "\n",
        "        super(XorClassifier, self).__init__() \n",
        "        # TODO: please initialize the layers here\n",
        "\n",
        "\n",
        "    def forward(self, x):\n",
        "        # TODO: please build your forward pass here\n",
        "\n",
        "        return out"
      ],
      "execution_count": 0,
      "outputs": []
    },
    {
      "metadata": {
        "id": "ZkeRbaEa2xB1",
        "colab_type": "text"
      },
      "cell_type": "markdown",
      "source": [
        "Different from what we did before, we want to have our output layer to output two values to indicate the probability distribution over the two possible labels instead of one real value for the label. \n",
        "\n",
        "So, we set the output dimension to 2 and use cross entropy as loss function ([`nn.CrossEntropyLoss()`](https://pytorch.org/docs/stable/nn.html#torch.nn.CrossEntropyLoss)) because it is useful when training a classification problem with N classes. Don't worry if you're not familiar with the cross entropy, we will have more expanations in the next tutorial.\n",
        "\n",
        "We also try a different optimizer this time. [Adam](https://pytorch.org/docs/stable/optim.html#torch.optim.Adam) is an adaptive optimization algorithm. You can try to compare it with SGD as well!"
      ]
    },
    {
      "metadata": {
        "id": "4A207iKQ0V0E",
        "colab_type": "code",
        "colab": {}
      },
      "cell_type": "code",
      "source": [
        "model = XorClassifier(2, 2)\n",
        "\n",
        "criterion = nn.CrossEntropyLoss()\n",
        "learning_rate = 0.01\n",
        "optimizer = torch.optim.Adam(model.parameters(), lr=learning_rate)\n",
        "\n",
        "epochs = 5000"
      ],
      "execution_count": 0,
      "outputs": []
    },
    {
      "metadata": {
        "id": "nwlmcJ4B2cgJ",
        "colab_type": "text"
      },
      "cell_type": "markdown",
      "source": [
        "Let's complete the final part of the training script to learn the classifier!"
      ]
    },
    {
      "metadata": {
        "id": "QvUkHJGA0qHZ",
        "colab_type": "code",
        "colab": {}
      },
      "cell_type": "code",
      "source": [
        "for epoch in range(epochs):\n",
        "    inputs = torch.from_numpy(x_train).type(torch.FloatTensor)\n",
        "    labels = torch.from_numpy(y_correct)\n",
        "    \n",
        "    # TODO: please complete the training script\n",
        "\n",
        "    if epoch % 500 == 0:\n",
        "        print('epoch {}, loss {}'.format(epoch, loss.item()))"
      ],
      "execution_count": 0,
      "outputs": []
    },
    {
      "metadata": {
        "id": "tZcAm8Jx2tqj",
        "colab_type": "text"
      },
      "cell_type": "markdown",
      "source": [
        "Since we're predicting the distribution over labels, we need to take the index of the max value as the predicted label.\n",
        "\n",
        "Then, we can draw the predictions in a 2D plot. If your model lears well, you will see most dots in the 1st and 3rd quadrants are red, and the dots in the 2nd and 4th quadrants are blue."
      ]
    },
    {
      "metadata": {
        "id": "_0BUGKtMRE3c",
        "colab_type": "code",
        "colab": {}
      },
      "cell_type": "code",
      "source": [
        "outputs = model.forward(torch.from_numpy(x_train).type(torch.FloatTensor))\n",
        "_, predicted = torch.max(outputs, 1)\n",
        "\n",
        "fig, ax = plt.subplots()\n",
        "for i in range(y_correct.shape[0]):\n",
        "    if predicted[i] == 0:\n",
        "        marker = 'ro'\n",
        "    else:\n",
        "        marker = 'bo'\n",
        "    ax.plot(x_train[i][0], x_train[i][1], marker)\n",
        "ax.axhline(y=0, color='k')\n",
        "ax.axvline(x=0, color='k')"
      ],
      "execution_count": 0,
      "outputs": []
    },
    {
      "metadata": {
        "id": "0gtNP-lfY4KL",
        "colab_type": "text"
      },
      "cell_type": "markdown",
      "source": [
        "### Congrats! \n",
        "\n",
        "Let's move to the next tutorial: [Convolutional neural network](https://colab.research.google.com/drive/1_QVMpGNXRzjU-n0beoHmmoxjGig8v94C)."
      ]
    }
  ]
}